{
 "cells": [
  {
   "cell_type": "code",
   "execution_count": 1,
   "metadata": {},
   "outputs": [],
   "source": [
    "#Cargamos librerias\n",
    "import pandas as pd\n",
    "import numpy as np\n",
    "import matplotlib.pyplot as plt\n",
    "from funpymodeling.exploratory import freq_tbl\n",
    "import scipy.special as special\n",
    "from scipy.optimize import curve_fit\n",
    "import seaborn as sns\n",
    "from sklearn.metrics import r2_score\n",
    "from sklearn.model_selection import train_test_split\n",
    "from sklearn.preprocessing import StandardScaler"
   ]
  },
  {
   "cell_type": "code",
   "execution_count": 2,
   "metadata": {},
   "outputs": [],
   "source": [
    "df = pd.read_csv('Roma.csv')"
   ]
  },
  {
   "cell_type": "code",
   "execution_count": 3,
   "metadata": {},
   "outputs": [
    {
     "name": "stderr",
     "output_type": "stream",
     "text": [
      "C:\\Users\\HP\\AppData\\Local\\Temp\\ipykernel_5072\\1730909967.py:1: FutureWarning: DataFrame.fillna with 'method' is deprecated and will raise in a future version. Use obj.ffill() or obj.bfill() instead.\n",
      "  df= df.fillna(method=\"bfill\")\n",
      "C:\\Users\\HP\\AppData\\Local\\Temp\\ipykernel_5072\\1730909967.py:2: FutureWarning: DataFrame.fillna with 'method' is deprecated and will raise in a future version. Use obj.ffill() or obj.bfill() instead.\n",
      "  df= df.fillna(method=\"ffill\")\n"
     ]
    }
   ],
   "source": [
    "df= df.fillna(method=\"bfill\")\n",
    "df= df.fillna(method=\"ffill\")\n",
    "df = df.bfill()\n",
    "df= df.ffill()"
   ]
  },
  {
   "cell_type": "markdown",
   "metadata": {},
   "source": [
    "**Transformando variables a tipo dicotómicas**"
   ]
  },
  {
   "cell_type": "code",
   "execution_count": 4,
   "metadata": {},
   "outputs": [
    {
     "name": "stderr",
     "output_type": "stream",
     "text": [
      "<>:12: SyntaxWarning: invalid escape sequence '\\$'\n",
      "<>:12: SyntaxWarning: invalid escape sequence '\\$'\n",
      "C:\\Users\\HP\\AppData\\Local\\Temp\\ipykernel_5072\\2275433636.py:12: SyntaxWarning: invalid escape sequence '\\$'\n",
      "  df[\"price\"] = df[\"price\"].replace('[\\$,]', '', regex=True).astype(float)\n"
     ]
    }
   ],
   "source": [
    "\n",
    "#bathrooms_text\n",
    "df[\"bathroomsd\"] = df[\"bathrooms_text\"].astype(str).apply(lambda x: 1 if \"2\" in x or \"3\" in x or \"4\" in x else 0)\n",
    "#room_type Entire home\n",
    "df[\"E_room_typed\"] = df[\"room_type\"].apply(lambda x: 1 if x == \"Entire home/apt\" else 0)\n",
    "#room_type Private home\n",
    "df[\"P_room_typed\"] = df[\"room_type\"].apply(lambda x: 1 if x == \"Private room\" else 0)\n",
    "#room_type Hotel home\n",
    "df[\"H_room_typed\"] = df[\"room_type\"].apply(lambda x: 1 if x == \"Hotel room\" else 0)\n",
    "#instant_bookabled\n",
    "df[\"instant_bookabled\"] = df[\"instant_bookable\"].apply(lambda x: 1 if x == \"t\" else 0)\n",
    "#Price\n",
    "df[\"price\"] = df[\"price\"].replace('[\\$,]', '', regex=True).astype(float)\n",
    "Mprice = df[\"price\"].median()\n",
    "df[\"D_price\"] = df[\"price\"].apply(lambda x: 1 if x >= Mprice else 0)\n",
    "#host_total_listings_count\n",
    "Mlistings = df[\"host_total_listings_count\"].median()\n",
    "df[\"D_host_listings\"] = df[\"host_total_listings_count\"].apply(lambda x: 1 if x >= Mlistings else 0)\n",
    "#host_total_listings_count\n",
    "Maccuracy = df[\"host_total_listings_count\"].median()\n",
    "df[\"D_accuracy\"] = df[\"review_scores_accuracy\"].apply(lambda x: 1 if x >= Maccuracy else 0)\n",
    "#availability_30\n",
    "Mavailability = df[\"availability_30\"].median()\n",
    "df[\"D_availability\"] = df[\"availability_30\"].apply(lambda x: 1 if x >= Mavailability else 0)\n",
    "#availability_90\n",
    "Mavailability90 = df[\"availability_90\"].median()\n",
    "df[\"D_availability90\"] = df[\"availability_90\"].apply(lambda x: 1 if x >= Mavailability90 else 0)\n",
    "#number_of_reviews\n",
    "Mreviews = df[\"number_of_reviews\"].median()\n",
    "df[\"D_reviews\"] = df[\"number_of_reviews\"].apply(lambda x: 1 if x >= Mreviews else 0)\n",
    "#review_scores_rating\n",
    "Mrating = df[\"review_scores_rating\"].median()\n",
    "df[\"D_rating\"] = df[\"review_scores_rating\"].apply(lambda x: 1 if x >= Mrating else 0)\n",
    "#review_scores_rating\n",
    "Maccommodates = df[\"accommodates\"].median()\n",
    "df[\"D_accommodates\"] = df[\"accommodates\"].apply(lambda x: 1 if x >= Maccommodates else 0)\n",
    "\n"
   ]
  },
  {
   "cell_type": "code",
   "execution_count": 5,
   "metadata": {},
   "outputs": [
    {
     "data": {
      "text/html": [
       "<div>\n",
       "<style scoped>\n",
       "    .dataframe tbody tr th:only-of-type {\n",
       "        vertical-align: middle;\n",
       "    }\n",
       "\n",
       "    .dataframe tbody tr th {\n",
       "        vertical-align: top;\n",
       "    }\n",
       "\n",
       "    .dataframe thead th {\n",
       "        text-align: right;\n",
       "    }\n",
       "</style>\n",
       "<table border=\"1\" class=\"dataframe\">\n",
       "  <thead>\n",
       "    <tr style=\"text-align: right;\">\n",
       "      <th></th>\n",
       "      <th>Unnamed: 0</th>\n",
       "      <th>id</th>\n",
       "      <th>name</th>\n",
       "      <th>description</th>\n",
       "      <th>neighborhood_overview</th>\n",
       "      <th>host_id</th>\n",
       "      <th>host_name</th>\n",
       "      <th>host_since</th>\n",
       "      <th>host_location</th>\n",
       "      <th>host_response_time</th>\n",
       "      <th>...</th>\n",
       "      <th>H_room_typed</th>\n",
       "      <th>instant_bookabled</th>\n",
       "      <th>D_price</th>\n",
       "      <th>D_host_listings</th>\n",
       "      <th>D_accuracy</th>\n",
       "      <th>D_availability</th>\n",
       "      <th>D_availability90</th>\n",
       "      <th>D_reviews</th>\n",
       "      <th>D_rating</th>\n",
       "      <th>D_accommodates</th>\n",
       "    </tr>\n",
       "  </thead>\n",
       "  <tbody>\n",
       "    <tr>\n",
       "      <th>0</th>\n",
       "      <td>0</td>\n",
       "      <td>2737.0</td>\n",
       "      <td>Elif's room in cozy, clean flat.</td>\n",
       "      <td>10 min by bus you can get to Piazza Venezia or...</td>\n",
       "      <td>It used to be an industrial area until late 80...</td>\n",
       "      <td>3047</td>\n",
       "      <td>Elif</td>\n",
       "      <td>18/09/2008</td>\n",
       "      <td>Rome, Italy</td>\n",
       "      <td>within an hour</td>\n",
       "      <td>...</td>\n",
       "      <td>0</td>\n",
       "      <td>1</td>\n",
       "      <td>0</td>\n",
       "      <td>1</td>\n",
       "      <td>0</td>\n",
       "      <td>1</td>\n",
       "      <td>1</td>\n",
       "      <td>0</td>\n",
       "      <td>1</td>\n",
       "      <td>0</td>\n",
       "    </tr>\n",
       "    <tr>\n",
       "      <th>1</th>\n",
       "      <td>1</td>\n",
       "      <td>3079.0</td>\n",
       "      <td>Cozy apartment  (2-4)with Colisseum  view</td>\n",
       "      <td>With the view of the Colisseum from the front ...</td>\n",
       "      <td>Monti neighborhood is one of the best areas in...</td>\n",
       "      <td>3504</td>\n",
       "      <td>Laura</td>\n",
       "      <td>08/10/2008</td>\n",
       "      <td>Rome, Italy</td>\n",
       "      <td>within a few hours</td>\n",
       "      <td>...</td>\n",
       "      <td>0</td>\n",
       "      <td>1</td>\n",
       "      <td>1</td>\n",
       "      <td>1</td>\n",
       "      <td>0</td>\n",
       "      <td>0</td>\n",
       "      <td>0</td>\n",
       "      <td>0</td>\n",
       "      <td>0</td>\n",
       "      <td>1</td>\n",
       "    </tr>\n",
       "    <tr>\n",
       "      <th>2</th>\n",
       "      <td>3</td>\n",
       "      <td>12398.0</td>\n",
       "      <td>Casa Donatello - Home far from Home</td>\n",
       "      <td>Casa Donatello is a newly renovated two-bedroo...</td>\n",
       "      <td>You are at 15 minutes walking distance from hi...</td>\n",
       "      <td>11756</td>\n",
       "      <td>Gea</td>\n",
       "      <td>30/03/2009</td>\n",
       "      <td>Rome, Italy</td>\n",
       "      <td>within an hour</td>\n",
       "      <td>...</td>\n",
       "      <td>0</td>\n",
       "      <td>0</td>\n",
       "      <td>1</td>\n",
       "      <td>1</td>\n",
       "      <td>0</td>\n",
       "      <td>1</td>\n",
       "      <td>1</td>\n",
       "      <td>1</td>\n",
       "      <td>1</td>\n",
       "      <td>1</td>\n",
       "    </tr>\n",
       "    <tr>\n",
       "      <th>3</th>\n",
       "      <td>4</td>\n",
       "      <td>19965.0</td>\n",
       "      <td>S.Peter's Basilica 5 MIN WALK two large bedrooms</td>\n",
       "      <td>Bright and quiet two bedrooms apartment 3rd fl...</td>\n",
       "      <td>Prati is a famous neighbourhood (rione of Rome...</td>\n",
       "      <td>75450</td>\n",
       "      <td>Sasa</td>\n",
       "      <td>30/01/2010</td>\n",
       "      <td>Rome, Italy</td>\n",
       "      <td>within an hour</td>\n",
       "      <td>...</td>\n",
       "      <td>0</td>\n",
       "      <td>0</td>\n",
       "      <td>1</td>\n",
       "      <td>1</td>\n",
       "      <td>0</td>\n",
       "      <td>1</td>\n",
       "      <td>1</td>\n",
       "      <td>1</td>\n",
       "      <td>0</td>\n",
       "      <td>1</td>\n",
       "    </tr>\n",
       "    <tr>\n",
       "      <th>4</th>\n",
       "      <td>5</td>\n",
       "      <td>50333.0</td>\n",
       "      <td>Bright&amp;Cosy Penthouse Overlooking St. Peter's ...</td>\n",
       "      <td>Very bright and comfortable, impressive views ...</td>\n",
       "      <td>There are plenty of shops nearby, small restau...</td>\n",
       "      <td>230736</td>\n",
       "      <td>Sita Alessandra</td>\n",
       "      <td>10/09/2010</td>\n",
       "      <td>Rome, Italy</td>\n",
       "      <td>within an hour</td>\n",
       "      <td>...</td>\n",
       "      <td>0</td>\n",
       "      <td>0</td>\n",
       "      <td>1</td>\n",
       "      <td>0</td>\n",
       "      <td>0</td>\n",
       "      <td>1</td>\n",
       "      <td>1</td>\n",
       "      <td>1</td>\n",
       "      <td>1</td>\n",
       "      <td>0</td>\n",
       "    </tr>\n",
       "  </tbody>\n",
       "</table>\n",
       "<p>5 rows × 79 columns</p>\n",
       "</div>"
      ],
      "text/plain": [
       "   Unnamed: 0       id                                               name  \\\n",
       "0           0   2737.0                   Elif's room in cozy, clean flat.   \n",
       "1           1   3079.0          Cozy apartment  (2-4)with Colisseum  view   \n",
       "2           3  12398.0                Casa Donatello - Home far from Home   \n",
       "3           4  19965.0   S.Peter's Basilica 5 MIN WALK two large bedrooms   \n",
       "4           5  50333.0  Bright&Cosy Penthouse Overlooking St. Peter's ...   \n",
       "\n",
       "                                         description  \\\n",
       "0  10 min by bus you can get to Piazza Venezia or...   \n",
       "1  With the view of the Colisseum from the front ...   \n",
       "2  Casa Donatello is a newly renovated two-bedroo...   \n",
       "3  Bright and quiet two bedrooms apartment 3rd fl...   \n",
       "4  Very bright and comfortable, impressive views ...   \n",
       "\n",
       "                               neighborhood_overview  host_id  \\\n",
       "0  It used to be an industrial area until late 80...     3047   \n",
       "1  Monti neighborhood is one of the best areas in...     3504   \n",
       "2  You are at 15 minutes walking distance from hi...    11756   \n",
       "3  Prati is a famous neighbourhood (rione of Rome...    75450   \n",
       "4  There are plenty of shops nearby, small restau...   230736   \n",
       "\n",
       "         host_name  host_since host_location  host_response_time  ...  \\\n",
       "0             Elif  18/09/2008   Rome, Italy      within an hour  ...   \n",
       "1            Laura  08/10/2008   Rome, Italy  within a few hours  ...   \n",
       "2              Gea  30/03/2009   Rome, Italy      within an hour  ...   \n",
       "3             Sasa  30/01/2010   Rome, Italy      within an hour  ...   \n",
       "4  Sita Alessandra  10/09/2010   Rome, Italy      within an hour  ...   \n",
       "\n",
       "  H_room_typed instant_bookabled D_price D_host_listings  D_accuracy  \\\n",
       "0            0                 1       0               1           0   \n",
       "1            0                 1       1               1           0   \n",
       "2            0                 0       1               1           0   \n",
       "3            0                 0       1               1           0   \n",
       "4            0                 0       1               0           0   \n",
       "\n",
       "   D_availability D_availability90 D_reviews  D_rating  D_accommodates  \n",
       "0               1                1         0         1               0  \n",
       "1               0                0         0         0               1  \n",
       "2               1                1         1         1               1  \n",
       "3               1                1         1         0               1  \n",
       "4               1                1         1         1               0  \n",
       "\n",
       "[5 rows x 79 columns]"
      ]
     },
     "execution_count": 5,
     "metadata": {},
     "output_type": "execute_result"
    }
   ],
   "source": [
    "df.head(5)"
   ]
  },
  {
   "cell_type": "markdown",
   "metadata": {},
   "source": [
    "**CASO 1: accommodates, bathrooms, room_type**"
   ]
  },
  {
   "cell_type": "code",
   "execution_count": 6,
   "metadata": {},
   "outputs": [
    {
     "data": {
      "text/plain": [
       "array([0, 0, 1, ..., 0, 0, 0], dtype=int64)"
      ]
     },
     "execution_count": 6,
     "metadata": {},
     "output_type": "execute_result"
    }
   ],
   "source": [
    "#Declaramos las variables dependientes e independiente para las regresion Logisitica \n",
    "Vars_Indep = df[['D_accommodates', 'bathroomsd', 'E_room_typed']]\n",
    "Var_Dep = df['D_price']\n",
    "X = Vars_Indep\n",
    "y = Var_Dep\n",
    "\n",
    "#Dividimos el conjunto de datos en la parte de entrenamiento y prueba:\n",
    "X_train, X_test, y_train, y_test = train_test_split(X, y, test_size=0.3, random_state= None)\n",
    "\n",
    "#Se escalan los datos\n",
    "escalar = StandardScaler()\n",
    "#Para realizar el escalamiento de las variables \"X\" tanto de entrenamiento como de prueba, utilizaremos \n",
    "X_train = escalar.fit_transform(X_train)\n",
    "X_test = escalar.transform(X_test)\n",
    "\n",
    "#Definimos el algoritmo a utilizar\n",
    "from sklearn.linear_model import LogisticRegression\n",
    "algoritmo = LogisticRegression()\n",
    "\n",
    "algoritmo.fit(X_train, y_train)\n",
    "\n",
    "y_pred = algoritmo.predict(X_test)\n",
    "y_pred"
   ]
  },
  {
   "cell_type": "code",
   "execution_count": 7,
   "metadata": {},
   "outputs": [
    {
     "name": "stdout",
     "output_type": "stream",
     "text": [
      "Matriz de Confusion:\n",
      "[[701 379]\n",
      " [406 733]]\n"
     ]
    }
   ],
   "source": [
    "#Verifico la matriz de Confusion\n",
    "from sklearn.metrics import confusion_matrix\n",
    "matriz = confusion_matrix(y_test, y_pred)\n",
    "print('Matriz de Confusion:')\n",
    "print(matriz)"
   ]
  },
  {
   "cell_type": "code",
   "execution_count": 8,
   "metadata": {},
   "outputs": [
    {
     "name": "stdout",
     "output_type": "stream",
     "text": [
      "Precision del modelo: \n",
      "0.6591726618705036\n"
     ]
    }
   ],
   "source": [
    "#Caulculo de la precisuin del modelo\n",
    "from sklearn.metrics import precision_score\n",
    "\n",
    "precision = precision_score(y_test, y_pred, average='binary')\n",
    "print(\"Precision del modelo: \")\n",
    "print(precision)"
   ]
  },
  {
   "cell_type": "code",
   "execution_count": 9,
   "metadata": {},
   "outputs": [
    {
     "name": "stdout",
     "output_type": "stream",
     "text": [
      "Exactitud del modelo: \n",
      "0.6462370437133844\n"
     ]
    }
   ],
   "source": [
    "from sklearn.metrics import accuracy_score\n",
    "\n",
    "exactitud = accuracy_score(y_test, y_pred)\n",
    "print(\"Exactitud del modelo: \")\n",
    "print(exactitud)\n"
   ]
  },
  {
   "cell_type": "code",
   "execution_count": 10,
   "metadata": {},
   "outputs": [
    {
     "name": "stdout",
     "output_type": "stream",
     "text": [
      "Sensibilidad del modelo:\n",
      "0.6435469710272168\n"
     ]
    }
   ],
   "source": [
    "#Calculo la sensibilidad del modelo\n",
    "from sklearn.metrics import recall_score\n",
    "sensibilidad = recall_score(y_test, y_pred, average=\"binary\")\n",
    "print('Sensibilidad del modelo:')\n",
    "print(sensibilidad)\n"
   ]
  },
  {
   "cell_type": "markdown",
   "metadata": {},
   "source": [
    "**CASO 2:** \n",
    "**price, host_listings, accuracy**"
   ]
  },
  {
   "cell_type": "code",
   "execution_count": 11,
   "metadata": {},
   "outputs": [
    {
     "data": {
      "text/plain": [
       "array([0, 0, 0, ..., 1, 1, 1], dtype=int64)"
      ]
     },
     "execution_count": 11,
     "metadata": {},
     "output_type": "execute_result"
    }
   ],
   "source": [
    "#Declaramos las variables dependientes e independiente para las regresion Logisitica \n",
    "Vars_Indep = df[['D_price', 'D_host_listings', 'D_accuracy']]\n",
    "Var_Dep = df['D_availability']\n",
    "X = Vars_Indep\n",
    "y = Var_Dep\n",
    "\n",
    "#Dividimos el conjunto de datos en la parte de entrenamiento y prueba:\n",
    "X_train, X_test, y_train, y_test = train_test_split(X, y, test_size=0.3, random_state= None)\n",
    "\n",
    "#Se escalan los datos\n",
    "escalar = StandardScaler()\n",
    "#Para realizar el escalamiento de las variables \"X\" tanto de entrenamiento como de prueba, utilizaremos \n",
    "X_train = escalar.fit_transform(X_train)\n",
    "X_test = escalar.transform(X_test)\n",
    "\n",
    "#Definimos el algoritmo a utilizar\n",
    "algoritmo = LogisticRegression()\n",
    "\n",
    "algoritmo.fit(X_train, y_train)\n",
    "\n",
    "y_pred = algoritmo.predict(X_test)\n",
    "y_pred"
   ]
  },
  {
   "cell_type": "code",
   "execution_count": 12,
   "metadata": {},
   "outputs": [
    {
     "name": "stdout",
     "output_type": "stream",
     "text": [
      "Matriz de Confusion:\n",
      "[[610 362]\n",
      " [510 737]]\n"
     ]
    }
   ],
   "source": [
    "#Verifico la matriz de Confusion\n",
    "matriz = confusion_matrix(y_test, y_pred)\n",
    "print('Matriz de Confusion:')\n",
    "print(matriz)"
   ]
  },
  {
   "cell_type": "code",
   "execution_count": 13,
   "metadata": {},
   "outputs": [
    {
     "name": "stdout",
     "output_type": "stream",
     "text": [
      "Precision del modelo: \n",
      "0.6706096451319381\n"
     ]
    }
   ],
   "source": [
    "#Caulculo de la precisuin del modelo\n",
    "precision = precision_score(y_test, y_pred, average='binary')\n",
    "print(\"Precision del modelo: \")\n",
    "print(precision)"
   ]
  },
  {
   "cell_type": "code",
   "execution_count": 14,
   "metadata": {},
   "outputs": [
    {
     "name": "stdout",
     "output_type": "stream",
     "text": [
      "Exactitud del modelo: \n",
      "0.6070301937809824\n"
     ]
    }
   ],
   "source": [
    "exactitud = accuracy_score(y_test, y_pred)\n",
    "print(\"Exactitud del modelo: \")\n",
    "print(exactitud)\n"
   ]
  },
  {
   "cell_type": "code",
   "execution_count": 15,
   "metadata": {},
   "outputs": [
    {
     "name": "stdout",
     "output_type": "stream",
     "text": [
      "Sensibilidad del modelo:\n",
      "0.591018444266239\n"
     ]
    }
   ],
   "source": [
    "#Calculo la sensibilidad del modelo\n",
    "sensibilidad = recall_score(y_test, y_pred, average=\"binary\")\n",
    "print('Sensibilidad del modelo:')\n",
    "print(sensibilidad)\n"
   ]
  },
  {
   "cell_type": "markdown",
   "metadata": {},
   "source": [
    "**CASO 3:** \n",
    "**availability, number_of_reviews, review_scores_rating**"
   ]
  },
  {
   "cell_type": "code",
   "execution_count": 16,
   "metadata": {},
   "outputs": [
    {
     "data": {
      "text/plain": [
       "array([0, 0, 0, ..., 0, 0, 1], dtype=int64)"
      ]
     },
     "execution_count": 16,
     "metadata": {},
     "output_type": "execute_result"
    }
   ],
   "source": [
    "#Declaramos las variables dependientes e independiente para las regresion Logisitica \n",
    "Vars_Indep = df[['D_availability', 'D_reviews', 'D_rating']]\n",
    "Var_Dep = df['D_price']\n",
    "X = Vars_Indep\n",
    "y = Var_Dep\n",
    "\n",
    "#Dividimos el conjunto de datos en la parte de entrenamiento y prueba:\n",
    "X_train, X_test, y_train, y_test = train_test_split(X, y, test_size=0.3, random_state= None)\n",
    "\n",
    "#Se escalan los datos\n",
    "escalar = StandardScaler()\n",
    "#Para realizar el escalamiento de las variables \"X\" tanto de entrenamiento como de prueba, utilizaremos \n",
    "X_train = escalar.fit_transform(X_train)\n",
    "X_test = escalar.transform(X_test)\n",
    "\n",
    "#Definimos el algoritmo a utilizar\n",
    "algoritmo = LogisticRegression()\n",
    "\n",
    "algoritmo.fit(X_train, y_train)\n",
    "\n",
    "y_pred = algoritmo.predict(X_test)\n",
    "y_pred"
   ]
  },
  {
   "cell_type": "code",
   "execution_count": 17,
   "metadata": {},
   "outputs": [
    {
     "name": "stdout",
     "output_type": "stream",
     "text": [
      "Matriz de Confusion:\n",
      "[[738 369]\n",
      " [538 574]]\n"
     ]
    }
   ],
   "source": [
    "#Verifico la matriz de Confusion\n",
    "matriz = confusion_matrix(y_test, y_pred)\n",
    "print('Matriz de Confusion:')\n",
    "print(matriz)"
   ]
  },
  {
   "cell_type": "code",
   "execution_count": 18,
   "metadata": {},
   "outputs": [
    {
     "name": "stdout",
     "output_type": "stream",
     "text": [
      "Precision del modelo: \n",
      "0.6086956521739131\n"
     ]
    }
   ],
   "source": [
    "#Caulculo de la precisuin del modelo\n",
    "precision = precision_score(y_test, y_pred, average='binary')\n",
    "print(\"Precision del modelo: \")\n",
    "print(precision)"
   ]
  },
  {
   "cell_type": "code",
   "execution_count": 19,
   "metadata": {},
   "outputs": [
    {
     "name": "stdout",
     "output_type": "stream",
     "text": [
      "Exactitud del modelo: \n",
      "0.5912573231185219\n"
     ]
    }
   ],
   "source": [
    "exactitud = accuracy_score(y_test, y_pred)\n",
    "print(\"Exactitud del modelo: \")\n",
    "print(exactitud)\n"
   ]
  },
  {
   "cell_type": "code",
   "execution_count": 20,
   "metadata": {},
   "outputs": [
    {
     "name": "stdout",
     "output_type": "stream",
     "text": [
      "Sensibilidad del modelo:\n",
      "0.5161870503597122\n"
     ]
    }
   ],
   "source": [
    "#Calculo la sensibilidad del modelo\n",
    "sensibilidad = recall_score(y_test, y_pred, average=\"binary\")\n",
    "print('Sensibilidad del modelo:')\n",
    "print(sensibilidad)\n"
   ]
  },
  {
   "cell_type": "markdown",
   "metadata": {},
   "source": [
    "**CASO 4:** \n",
    "**bathrooms, number_of_reviews, price**"
   ]
  },
  {
   "cell_type": "code",
   "execution_count": 21,
   "metadata": {},
   "outputs": [
    {
     "data": {
      "text/plain": [
       "array([1, 0, 0, ..., 0, 0, 1], dtype=int64)"
      ]
     },
     "execution_count": 21,
     "metadata": {},
     "output_type": "execute_result"
    }
   ],
   "source": [
    "# Declaramos las variables dependientes e independientes para la regresión logística\n",
    "Vars_Indep = df[['bathroomsd', 'D_reviews', 'D_price']]\n",
    "Var_Dep = df['D_availability']\n",
    "X = Vars_Indep\n",
    "y = Var_Dep\n",
    "\n",
    "# Dividimos el conjunto de datos en entrenamiento y prueba\n",
    "X_train, X_test, y_train, y_test = train_test_split(X, y, test_size=0.3, random_state=None)\n",
    "\n",
    "# Se escalan los datos\n",
    "escalar = StandardScaler()\n",
    "X_train = escalar.fit_transform(X_train)\n",
    "X_test = escalar.transform(X_test)\n",
    "\n",
    "# Definimos el algoritmo a utilizar\n",
    "algoritmo = LogisticRegression()\n",
    "algoritmo.fit(X_train, y_train)\n",
    "\n",
    "# Hacemos las predicciones\n",
    "y_pred = algoritmo.predict(X_test)\n",
    "y_pred\n"
   ]
  },
  {
   "cell_type": "code",
   "execution_count": 22,
   "metadata": {},
   "outputs": [
    {
     "name": "stdout",
     "output_type": "stream",
     "text": [
      "Matriz de Confusion:\n",
      "[[613 351]\n",
      " [503 752]]\n"
     ]
    }
   ],
   "source": [
    "#Verifico la matriz de Confusion\n",
    "matriz = confusion_matrix(y_test, y_pred)\n",
    "print('Matriz de Confusion:')\n",
    "print(matriz)"
   ]
  },
  {
   "cell_type": "code",
   "execution_count": 23,
   "metadata": {},
   "outputs": [
    {
     "name": "stdout",
     "output_type": "stream",
     "text": [
      "Precision del modelo: \n",
      "0.6817769718948323\n"
     ]
    }
   ],
   "source": [
    "#Caulculo de la precisuin del modelo\n",
    "precision = precision_score(y_test, y_pred, average='binary')\n",
    "print(\"Precision del modelo: \")\n",
    "print(precision)"
   ]
  },
  {
   "cell_type": "code",
   "execution_count": 24,
   "metadata": {},
   "outputs": [
    {
     "name": "stdout",
     "output_type": "stream",
     "text": [
      "Exactitud del modelo: \n",
      "0.6151419558359621\n"
     ]
    }
   ],
   "source": [
    "exactitud = accuracy_score(y_test, y_pred)\n",
    "print(\"Exactitud del modelo: \")\n",
    "print(exactitud)\n"
   ]
  },
  {
   "cell_type": "code",
   "execution_count": 25,
   "metadata": {},
   "outputs": [
    {
     "name": "stdout",
     "output_type": "stream",
     "text": [
      "Sensibilidad del modelo:\n",
      "0.599203187250996\n"
     ]
    }
   ],
   "source": [
    "#Calculo la sensibilidad del modelo\n",
    "sensibilidad = recall_score(y_test, y_pred, average=\"binary\")\n",
    "print('Sensibilidad del modelo:')\n",
    "print(sensibilidad)\n"
   ]
  },
  {
   "cell_type": "markdown",
   "metadata": {},
   "source": [
    "**CASO 5:** \n",
    "**accommodates, review_scores_rating, availability_30**"
   ]
  },
  {
   "cell_type": "code",
   "execution_count": 26,
   "metadata": {},
   "outputs": [
    {
     "data": {
      "text/plain": [
       "array([1, 0, 0, ..., 1, 0, 0], dtype=int64)"
      ]
     },
     "execution_count": 26,
     "metadata": {},
     "output_type": "execute_result"
    }
   ],
   "source": [
    "# Declaramos las variables dependientes e independientes para la regresión logística\n",
    "Vars_Indep = df[['D_accommodates', 'D_reviews', 'D_availability']]\n",
    "Var_Dep = df['D_price']\n",
    "X = Vars_Indep\n",
    "y = Var_Dep\n",
    "\n",
    "# Dividimos el conjunto de datos en entrenamiento y prueba\n",
    "X_train, X_test, y_train, y_test = train_test_split(X, y, test_size=0.3, random_state=None)\n",
    "\n",
    "# Se escalan los datos\n",
    "escalar = StandardScaler()\n",
    "X_train = escalar.fit_transform(X_train)\n",
    "X_test = escalar.transform(X_test)\n",
    "\n",
    "# Definimos el algoritmo a utilizar\n",
    "algoritmo = LogisticRegression()\n",
    "algoritmo.fit(X_train, y_train)\n",
    "\n",
    "# Hacemos las predicciones\n",
    "y_pred = algoritmo.predict(X_test)\n",
    "y_pred\n"
   ]
  },
  {
   "cell_type": "code",
   "execution_count": 27,
   "metadata": {},
   "outputs": [
    {
     "name": "stdout",
     "output_type": "stream",
     "text": [
      "Matriz de Confusion:\n",
      "[[693 418]\n",
      " [344 764]]\n"
     ]
    }
   ],
   "source": [
    "#Verifico la matriz de Confusion\n",
    "matriz = confusion_matrix(y_test, y_pred)\n",
    "print('Matriz de Confusion:')\n",
    "print(matriz)"
   ]
  },
  {
   "cell_type": "code",
   "execution_count": 28,
   "metadata": {},
   "outputs": [
    {
     "name": "stdout",
     "output_type": "stream",
     "text": [
      "Precision del modelo: \n",
      "0.6463620981387479\n"
     ]
    }
   ],
   "source": [
    "#Caulculo de la precisuin del modelo\n",
    "precision = precision_score(y_test, y_pred, average='binary')\n",
    "print(\"Precision del modelo: \")\n",
    "print(precision)"
   ]
  },
  {
   "cell_type": "code",
   "execution_count": 29,
   "metadata": {},
   "outputs": [
    {
     "name": "stdout",
     "output_type": "stream",
     "text": [
      "Exactitud del modelo: \n",
      "0.6566020730058585\n"
     ]
    }
   ],
   "source": [
    "exactitud = accuracy_score(y_test, y_pred)\n",
    "print(\"Exactitud del modelo: \")\n",
    "print(exactitud)\n"
   ]
  },
  {
   "cell_type": "code",
   "execution_count": 30,
   "metadata": {},
   "outputs": [
    {
     "name": "stdout",
     "output_type": "stream",
     "text": [
      "Sensibilidad del modelo:\n",
      "0.6895306859205776\n"
     ]
    }
   ],
   "source": [
    "#Calculo la sensibilidad del modelo\n",
    "sensibilidad = recall_score(y_test, y_pred, average=\"binary\")\n",
    "print('Sensibilidad del modelo:')\n",
    "print(sensibilidad)\n"
   ]
  },
  {
   "cell_type": "markdown",
   "metadata": {},
   "source": [
    "**CASO 6:** \n",
    "**instant_bookable, review_scores_rating, availability_90**"
   ]
  },
  {
   "cell_type": "code",
   "execution_count": 31,
   "metadata": {},
   "outputs": [
    {
     "data": {
      "text/plain": [
       "array([1, 1, 1, ..., 1, 0, 1], dtype=int64)"
      ]
     },
     "execution_count": 31,
     "metadata": {},
     "output_type": "execute_result"
    }
   ],
   "source": [
    "\n",
    "# Declaramos las variables dependientes e independientes para la regresión logística\n",
    "Vars_Indep = df[['instant_bookabled', 'D_reviews', 'D_availability90']]\n",
    "Var_Dep = df['D_price']\n",
    "X = Vars_Indep\n",
    "y = Var_Dep\n",
    "\n",
    "# Dividimos el conjunto de datos en entrenamiento y prueba\n",
    "X_train, X_test, y_train, y_test = train_test_split(X, y, test_size=0.3, random_state=None)\n",
    "\n",
    "# Se escalan los datos\n",
    "X_train = escalar.fit_transform(X_train)\n",
    "X_test = escalar.transform(X_test)\n",
    "\n",
    "# Definimos el algoritmo a utilizar\n",
    "algoritmo = LogisticRegression()\n",
    "algoritmo.fit(X_train, y_train)\n",
    "\n",
    "# Hacemos las predicciones\n",
    "y_pred = algoritmo.predict(X_test)\n",
    "y_pred\n"
   ]
  },
  {
   "cell_type": "code",
   "execution_count": 32,
   "metadata": {},
   "outputs": [
    {
     "name": "stdout",
     "output_type": "stream",
     "text": [
      "Matriz de Confusion:\n",
      "[[641 454]\n",
      " [458 666]]\n"
     ]
    }
   ],
   "source": [
    "#Verifico la matriz de Confusion\n",
    "matriz = confusion_matrix(y_test, y_pred)\n",
    "print('Matriz de Confusion:')\n",
    "print(matriz)"
   ]
  },
  {
   "cell_type": "code",
   "execution_count": 33,
   "metadata": {},
   "outputs": [
    {
     "name": "stdout",
     "output_type": "stream",
     "text": [
      "Precision del modelo: \n",
      "0.5946428571428571\n"
     ]
    }
   ],
   "source": [
    "#Caulculo de la precisuin del modelo\n",
    "precision = precision_score(y_test, y_pred, average='binary')\n",
    "print(\"Precision del modelo: \")\n",
    "print(precision)"
   ]
  },
  {
   "cell_type": "code",
   "execution_count": 34,
   "metadata": {},
   "outputs": [
    {
     "name": "stdout",
     "output_type": "stream",
     "text": [
      "Exactitud del modelo: \n",
      "0.5890040558810274\n"
     ]
    }
   ],
   "source": [
    "exactitud = accuracy_score(y_test, y_pred)\n",
    "print(\"Exactitud del modelo: \")\n",
    "print(exactitud)\n"
   ]
  },
  {
   "cell_type": "code",
   "execution_count": 35,
   "metadata": {},
   "outputs": [
    {
     "name": "stdout",
     "output_type": "stream",
     "text": [
      "Sensibilidad del modelo:\n",
      "0.5925266903914591\n"
     ]
    }
   ],
   "source": [
    "#Calculo la sensibilidad del modelo\n",
    "sensibilidad = recall_score(y_test, y_pred, average=\"binary\")\n",
    "print('Sensibilidad del modelo:')\n",
    "print(sensibilidad)\n"
   ]
  },
  {
   "cell_type": "markdown",
   "metadata": {},
   "source": [
    "**CASO 7:** \n",
    "**bathrooms, availability_30, host_listings**"
   ]
  },
  {
   "cell_type": "code",
   "execution_count": 36,
   "metadata": {},
   "outputs": [
    {
     "data": {
      "text/plain": [
       "array([1, 0, 0, ..., 1, 0, 1], dtype=int64)"
      ]
     },
     "execution_count": 36,
     "metadata": {},
     "output_type": "execute_result"
    }
   ],
   "source": [
    "\n",
    "# Declaramos las variables dependientes e independientes para la regresión logística\n",
    "Vars_Indep = df[['bathroomsd', 'D_availability', 'D_host_listings']]\n",
    "Var_Dep = df['D_reviews']\n",
    "X = Vars_Indep\n",
    "y = Var_Dep\n",
    "\n",
    "# Dividimos el conjunto de datos en entrenamiento y prueba\n",
    "X_train, X_test, y_train, y_test = train_test_split(X, y, test_size=0.3, random_state=None)\n",
    "\n",
    "# Se escalan los datos\n",
    "X_train = escalar.fit_transform(X_train)\n",
    "X_test = escalar.transform(X_test)\n",
    "\n",
    "# Definimos el algoritmo a utilizar\n",
    "algoritmo = LogisticRegression()\n",
    "algoritmo.fit(X_train, y_train)\n",
    "\n",
    "# Hacemos las predicciones\n",
    "y_pred = algoritmo.predict(X_test)\n",
    "y_pred\n"
   ]
  },
  {
   "cell_type": "code",
   "execution_count": 37,
   "metadata": {},
   "outputs": [
    {
     "name": "stdout",
     "output_type": "stream",
     "text": [
      "Matriz de Confusion:\n",
      "[[576 546]\n",
      " [421 676]]\n"
     ]
    }
   ],
   "source": [
    "#Verifico la matriz de Confusion\n",
    "matriz = confusion_matrix(y_test, y_pred)\n",
    "print('Matriz de Confusion:')\n",
    "print(matriz)"
   ]
  },
  {
   "cell_type": "code",
   "execution_count": 38,
   "metadata": {},
   "outputs": [
    {
     "name": "stdout",
     "output_type": "stream",
     "text": [
      "Precision del modelo: \n",
      "0.5531914893617021\n"
     ]
    }
   ],
   "source": [
    "#Caulculo de la precisuin del modelo\n",
    "precision = precision_score(y_test, y_pred, average='binary')\n",
    "print(\"Precision del modelo: \")\n",
    "print(precision)"
   ]
  },
  {
   "cell_type": "code",
   "execution_count": 39,
   "metadata": {},
   "outputs": [
    {
     "name": "stdout",
     "output_type": "stream",
     "text": [
      "Exactitud del modelo: \n",
      "0.5642181162685894\n"
     ]
    }
   ],
   "source": [
    "exactitud = accuracy_score(y_test, y_pred)\n",
    "print(\"Exactitud del modelo: \")\n",
    "print(exactitud)\n"
   ]
  },
  {
   "cell_type": "code",
   "execution_count": 40,
   "metadata": {},
   "outputs": [
    {
     "name": "stdout",
     "output_type": "stream",
     "text": [
      "Sensibilidad del modelo:\n",
      "0.6162260711030082\n"
     ]
    }
   ],
   "source": [
    "#Calculo la sensibilidad del modelo\n",
    "sensibilidad = recall_score(y_test, y_pred, average=\"binary\")\n",
    "print('Sensibilidad del modelo:')\n",
    "print(sensibilidad)\n"
   ]
  },
  {
   "cell_type": "markdown",
   "metadata": {},
   "source": [
    "**CASO 8:** \n",
    "**price, accommodates, review_scores_rating**"
   ]
  },
  {
   "cell_type": "code",
   "execution_count": 41,
   "metadata": {},
   "outputs": [
    {
     "data": {
      "text/plain": [
       "array([0, 1, 0, ..., 1, 1, 0], dtype=int64)"
      ]
     },
     "execution_count": 41,
     "metadata": {},
     "output_type": "execute_result"
    }
   ],
   "source": [
    "\n",
    "# Declaramos las variables dependientes e independientes para la regresión logística\n",
    "Vars_Indep = df[['D_price', 'D_accommodates', 'D_rating']]\n",
    "Var_Dep = df['D_reviews']\n",
    "X = Vars_Indep\n",
    "y = Var_Dep\n",
    "\n",
    "# Dividimos el conjunto de datos en entrenamiento y prueba\n",
    "X_train, X_test, y_train, y_test = train_test_split(X, y, test_size=0.3, random_state=None)\n",
    "\n",
    "# Se escalan los datos\n",
    "X_train = escalar.fit_transform(X_train)\n",
    "X_test = escalar.transform(X_test)\n",
    "\n",
    "# Definimos el algoritmo a utilizar\n",
    "algoritmo = LogisticRegression()\n",
    "algoritmo.fit(X_train, y_train)\n",
    "\n",
    "# Hacemos las predicciones\n",
    "y_pred = algoritmo.predict(X_test)\n",
    "y_pred\n"
   ]
  },
  {
   "cell_type": "code",
   "execution_count": 42,
   "metadata": {},
   "outputs": [
    {
     "name": "stdout",
     "output_type": "stream",
     "text": [
      "Matriz de Confusion:\n",
      "[[625 484]\n",
      " [474 636]]\n"
     ]
    }
   ],
   "source": [
    "#Verifico la matriz de Confusion\n",
    "matriz = confusion_matrix(y_test, y_pred)\n",
    "precision = precision_score(y_test, y_pred, average='binary')\n",
    "exactitud = accuracy_score(y_test, y_pred)\n",
    "\n",
    "print('Matriz de Confusion:')\n",
    "print(matriz)"
   ]
  },
  {
   "cell_type": "code",
   "execution_count": 43,
   "metadata": {},
   "outputs": [
    {
     "name": "stdout",
     "output_type": "stream",
     "text": [
      "Precision del modelo: \n",
      "0.5678571428571428\n"
     ]
    }
   ],
   "source": [
    "#Caulculo de la precisuin del modelo\n",
    "precision = precision_score(y_test, y_pred, average='binary')\n",
    "print(\"Precision del modelo: \")\n",
    "print(precision)"
   ]
  },
  {
   "cell_type": "code",
   "execution_count": 44,
   "metadata": {},
   "outputs": [
    {
     "name": "stdout",
     "output_type": "stream",
     "text": [
      "Exactitud del modelo: \n",
      "0.5682739972960793\n"
     ]
    }
   ],
   "source": [
    "exactitud = accuracy_score(y_test, y_pred)\n",
    "print(\"Exactitud del modelo: \")\n",
    "print(exactitud)\n"
   ]
  },
  {
   "cell_type": "code",
   "execution_count": 45,
   "metadata": {},
   "outputs": [
    {
     "name": "stdout",
     "output_type": "stream",
     "text": [
      "Sensibilidad del modelo:\n",
      "0.572972972972973\n"
     ]
    }
   ],
   "source": [
    "#Calculo la sensibilidad del modelo\n",
    "sensibilidad = recall_score(y_test, y_pred, average=\"binary\")\n",
    "print('Sensibilidad del modelo:')\n",
    "print(sensibilidad)\n"
   ]
  },
  {
   "cell_type": "markdown",
   "metadata": {},
   "source": [
    "**CASO 9:** \n",
    "**bathrooms, review_scores_accuracy, review_scores_rating**"
   ]
  },
  {
   "cell_type": "code",
   "execution_count": 46,
   "metadata": {},
   "outputs": [
    {
     "data": {
      "text/plain": [
       "array([1, 1, 0, ..., 0, 0, 0], dtype=int64)"
      ]
     },
     "execution_count": 46,
     "metadata": {},
     "output_type": "execute_result"
    }
   ],
   "source": [
    "\n",
    "# Declaramos las variables dependientes e independientes para la regresión logística\n",
    "Vars_Indep = df[['bathroomsd', 'D_accuracy', 'D_rating']]\n",
    "Var_Dep = df['D_price']\n",
    "X = Vars_Indep\n",
    "y = Var_Dep\n",
    "\n",
    "# Dividimos el conjunto de datos en entrenamiento y prueba\n",
    "X_train, X_test, y_train, y_test = train_test_split(X, y, test_size=0.3, random_state=None)\n",
    "\n",
    "# Se escalan los datos\n",
    "X_train = escalar.fit_transform(X_train)\n",
    "X_test = escalar.transform(X_test)\n",
    "\n",
    "# Definimos el algoritmo a utilizar\n",
    "algoritmo = LogisticRegression()\n",
    "algoritmo.fit(X_train, y_train)\n",
    "\n",
    "# Hacemos las predicciones\n",
    "y_pred = algoritmo.predict(X_test)\n",
    "y_pred\n"
   ]
  },
  {
   "cell_type": "code",
   "execution_count": 47,
   "metadata": {},
   "outputs": [
    {
     "name": "stdout",
     "output_type": "stream",
     "text": [
      "Matriz de Confusion:\n",
      "[[984 109]\n",
      " [768 358]]\n"
     ]
    }
   ],
   "source": [
    "#Verifico la matriz de Confusion\n",
    "matriz = confusion_matrix(y_test, y_pred)\n",
    "precision = precision_score(y_test, y_pred, average='binary')\n",
    "exactitud = accuracy_score(y_test, y_pred)\n",
    "\n",
    "print('Matriz de Confusion:')\n",
    "print(matriz)"
   ]
  },
  {
   "cell_type": "code",
   "execution_count": 48,
   "metadata": {},
   "outputs": [
    {
     "name": "stdout",
     "output_type": "stream",
     "text": [
      "Precision del modelo: \n",
      "0.7665952890792291\n"
     ]
    }
   ],
   "source": [
    "#Caulculo de la precisuin del modelo\n",
    "precision = precision_score(y_test, y_pred, average='binary')\n",
    "print(\"Precision del modelo: \")\n",
    "print(precision)"
   ]
  },
  {
   "cell_type": "code",
   "execution_count": 49,
   "metadata": {},
   "outputs": [
    {
     "name": "stdout",
     "output_type": "stream",
     "text": [
      "Exactitud del modelo: \n",
      "0.604776926543488\n"
     ]
    }
   ],
   "source": [
    "exactitud = accuracy_score(y_test, y_pred)\n",
    "print(\"Exactitud del modelo: \")\n",
    "print(exactitud)\n"
   ]
  },
  {
   "cell_type": "code",
   "execution_count": 50,
   "metadata": {},
   "outputs": [
    {
     "name": "stdout",
     "output_type": "stream",
     "text": [
      "Sensibilidad del modelo:\n",
      "0.31793960923623443\n"
     ]
    }
   ],
   "source": [
    "#Calculo la sensibilidad del modelo\n",
    "sensibilidad = recall_score(y_test, y_pred, average=\"binary\")\n",
    "print('Sensibilidad del modelo:')\n",
    "print(sensibilidad)"
   ]
  },
  {
   "cell_type": "markdown",
   "metadata": {},
   "source": [
    "**CASO 10:** \n",
    "**availabilit_90, host_total_listings_count, number_of_reviews**"
   ]
  },
  {
   "cell_type": "code",
   "execution_count": 51,
   "metadata": {},
   "outputs": [
    {
     "data": {
      "text/plain": [
       "array([0, 0, 1, ..., 1, 0, 0], dtype=int64)"
      ]
     },
     "execution_count": 51,
     "metadata": {},
     "output_type": "execute_result"
    }
   ],
   "source": [
    "# Declaramos las variables dependientes e independientes para la regresión logística\n",
    "Vars_Indep = df[['D_availability90', 'D_host_listings', 'D_reviews']]\n",
    "Var_Dep = df['D_price']\n",
    "X = Vars_Indep\n",
    "y = Var_Dep\n",
    "\n",
    "# Dividimos el conjunto de datos en entrenamiento y prueba\n",
    "X_train, X_test, y_train, y_test = train_test_split(X, y, test_size=0.3, random_state=None)\n",
    "\n",
    "# Se escalan los datos\n",
    "X_train = escalar.fit_transform(X_train)\n",
    "X_test = escalar.transform(X_test)\n",
    "\n",
    "# Definimos el algoritmo a utilizar\n",
    "algoritmo = LogisticRegression()\n",
    "algoritmo.fit(X_train, y_train)\n",
    "\n",
    "# Hacemos las predicciones\n",
    "y_pred = algoritmo.predict(X_test)\n",
    "y_pred\n"
   ]
  },
  {
   "cell_type": "code",
   "execution_count": 52,
   "metadata": {},
   "outputs": [
    {
     "name": "stdout",
     "output_type": "stream",
     "text": [
      "Matriz de Confusion:\n",
      "[[625 464]\n",
      " [479 651]]\n"
     ]
    }
   ],
   "source": [
    "#Verifico la matriz de Confusion\n",
    "matriz = confusion_matrix(y_test, y_pred)\n",
    "precision = precision_score(y_test, y_pred, average='binary')\n",
    "exactitud = accuracy_score(y_test, y_pred)\n",
    "\n",
    "print('Matriz de Confusion:')\n",
    "print(matriz)"
   ]
  },
  {
   "cell_type": "code",
   "execution_count": 53,
   "metadata": {},
   "outputs": [
    {
     "name": "stdout",
     "output_type": "stream",
     "text": [
      "Precision del modelo: \n",
      "0.5838565022421525\n"
     ]
    }
   ],
   "source": [
    "#Caulculo de la precisuin del modelo\n",
    "precision = precision_score(y_test, y_pred, average='binary')\n",
    "print(\"Precision del modelo: \")\n",
    "print(precision)"
   ]
  },
  {
   "cell_type": "code",
   "execution_count": 54,
   "metadata": {},
   "outputs": [
    {
     "name": "stdout",
     "output_type": "stream",
     "text": [
      "Exactitud del modelo: \n",
      "0.5750337990085624\n"
     ]
    }
   ],
   "source": [
    "exactitud = accuracy_score(y_test, y_pred)\n",
    "print(\"Exactitud del modelo: \")\n",
    "print(exactitud)\n"
   ]
  },
  {
   "cell_type": "code",
   "execution_count": 55,
   "metadata": {},
   "outputs": [
    {
     "name": "stdout",
     "output_type": "stream",
     "text": [
      "Sensibilidad del modelo:\n",
      "0.5761061946902655\n"
     ]
    }
   ],
   "source": [
    "#Calculo la sensibilidad del modelo\n",
    "sensibilidad = recall_score(y_test, y_pred, average=\"binary\")\n",
    "print('Sensibilidad del modelo:')\n",
    "print(sensibilidad)"
   ]
  }
 ],
 "metadata": {
  "kernelspec": {
   "display_name": "Python 3",
   "language": "python",
   "name": "python3"
  },
  "language_info": {
   "codemirror_mode": {
    "name": "ipython",
    "version": 3
   },
   "file_extension": ".py",
   "mimetype": "text/x-python",
   "name": "python",
   "nbconvert_exporter": "python",
   "pygments_lexer": "ipython3",
   "version": "3.12.4"
  }
 },
 "nbformat": 4,
 "nbformat_minor": 2
}
