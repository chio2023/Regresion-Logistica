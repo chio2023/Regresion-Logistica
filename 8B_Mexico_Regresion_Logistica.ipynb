{
 "cells": [
  {
   "cell_type": "code",
   "execution_count": 1,
   "metadata": {},
   "outputs": [],
   "source": [
    "#Cargamos librerias\n",
    "import pandas as pd\n",
    "import numpy as np\n",
    "import matplotlib.pyplot as plt\n",
    "from funpymodeling.exploratory import freq_tbl\n",
    "import scipy.special as special\n",
    "from scipy.optimize import curve_fit\n",
    "import seaborn as sns\n",
    "from sklearn.metrics import r2_score\n",
    "from sklearn.model_selection import train_test_split\n",
    "from sklearn.preprocessing import StandardScaler"
   ]
  },
  {
   "cell_type": "code",
   "execution_count": 2,
   "metadata": {},
   "outputs": [],
   "source": [
    "df = pd.read_csv('Mexico.csv')"
   ]
  },
  {
   "cell_type": "code",
   "execution_count": 3,
   "metadata": {},
   "outputs": [
    {
     "name": "stderr",
     "output_type": "stream",
     "text": [
      "C:\\Users\\HP\\AppData\\Local\\Temp\\ipykernel_19992\\1730909967.py:1: FutureWarning: DataFrame.fillna with 'method' is deprecated and will raise in a future version. Use obj.ffill() or obj.bfill() instead.\n",
      "  df= df.fillna(method=\"bfill\")\n",
      "C:\\Users\\HP\\AppData\\Local\\Temp\\ipykernel_19992\\1730909967.py:2: FutureWarning: DataFrame.fillna with 'method' is deprecated and will raise in a future version. Use obj.ffill() or obj.bfill() instead.\n",
      "  df= df.fillna(method=\"ffill\")\n"
     ]
    }
   ],
   "source": [
    "df= df.fillna(method=\"bfill\")\n",
    "df= df.fillna(method=\"ffill\")\n",
    "df = df.bfill()\n",
    "df= df.ffill()"
   ]
  },
  {
   "cell_type": "markdown",
   "metadata": {},
   "source": [
    "**Transformando variables a tipo dicotómicas**"
   ]
  },
  {
   "cell_type": "code",
   "execution_count": 4,
   "metadata": {},
   "outputs": [
    {
     "name": "stderr",
     "output_type": "stream",
     "text": [
      "<>:12: SyntaxWarning: invalid escape sequence '\\$'\n",
      "<>:12: SyntaxWarning: invalid escape sequence '\\$'\n",
      "C:\\Users\\HP\\AppData\\Local\\Temp\\ipykernel_19992\\2275433636.py:12: SyntaxWarning: invalid escape sequence '\\$'\n",
      "  df[\"price\"] = df[\"price\"].replace('[\\$,]', '', regex=True).astype(float)\n"
     ]
    }
   ],
   "source": [
    "\n",
    "#bathrooms_text\n",
    "df[\"bathroomsd\"] = df[\"bathrooms_text\"].astype(str).apply(lambda x: 1 if \"2\" in x or \"3\" in x or \"4\" in x else 0)\n",
    "#room_type Entire home\n",
    "df[\"E_room_typed\"] = df[\"room_type\"].apply(lambda x: 1 if x == \"Entire home/apt\" else 0)\n",
    "#room_type Private home\n",
    "df[\"P_room_typed\"] = df[\"room_type\"].apply(lambda x: 1 if x == \"Private room\" else 0)\n",
    "#room_type Hotel home\n",
    "df[\"H_room_typed\"] = df[\"room_type\"].apply(lambda x: 1 if x == \"Hotel room\" else 0)\n",
    "#instant_bookabled\n",
    "df[\"instant_bookabled\"] = df[\"instant_bookable\"].apply(lambda x: 1 if x == \"t\" else 0)\n",
    "#Price\n",
    "df[\"price\"] = df[\"price\"].replace('[\\$,]', '', regex=True).astype(float)\n",
    "Mprice = df[\"price\"].median()\n",
    "df[\"D_price\"] = df[\"price\"].apply(lambda x: 1 if x >= Mprice else 0)\n",
    "#host_total_listings_count\n",
    "Mlistings = df[\"host_total_listings_count\"].median()\n",
    "df[\"D_host_listings\"] = df[\"host_total_listings_count\"].apply(lambda x: 1 if x >= Mlistings else 0)\n",
    "#host_total_listings_count\n",
    "Maccuracy = df[\"host_total_listings_count\"].median()\n",
    "df[\"D_accuracy\"] = df[\"review_scores_accuracy\"].apply(lambda x: 1 if x >= Maccuracy else 0)\n",
    "#availability_30\n",
    "Mavailability = df[\"availability_30\"].median()\n",
    "df[\"D_availability\"] = df[\"availability_30\"].apply(lambda x: 1 if x >= Mavailability else 0)\n",
    "#availability_90\n",
    "Mavailability90 = df[\"availability_90\"].median()\n",
    "df[\"D_availability90\"] = df[\"availability_90\"].apply(lambda x: 1 if x >= Mavailability90 else 0)\n",
    "#number_of_reviews\n",
    "Mreviews = df[\"number_of_reviews\"].median()\n",
    "df[\"D_reviews\"] = df[\"number_of_reviews\"].apply(lambda x: 1 if x >= Mreviews else 0)\n",
    "#review_scores_rating\n",
    "Mrating = df[\"review_scores_rating\"].median()\n",
    "df[\"D_rating\"] = df[\"review_scores_rating\"].apply(lambda x: 1 if x >= Mrating else 0)\n",
    "#review_scores_rating\n",
    "Maccommodates = df[\"accommodates\"].median()\n",
    "df[\"D_accommodates\"] = df[\"accommodates\"].apply(lambda x: 1 if x >= Maccommodates else 0)\n",
    "\n"
   ]
  },
  {
   "cell_type": "code",
   "execution_count": 6,
   "metadata": {},
   "outputs": [
    {
     "data": {
      "text/html": [
       "<div>\n",
       "<style scoped>\n",
       "    .dataframe tbody tr th:only-of-type {\n",
       "        vertical-align: middle;\n",
       "    }\n",
       "\n",
       "    .dataframe tbody tr th {\n",
       "        vertical-align: top;\n",
       "    }\n",
       "\n",
       "    .dataframe thead th {\n",
       "        text-align: right;\n",
       "    }\n",
       "</style>\n",
       "<table border=\"1\" class=\"dataframe\">\n",
       "  <thead>\n",
       "    <tr style=\"text-align: right;\">\n",
       "      <th></th>\n",
       "      <th>id</th>\n",
       "      <th>listing_url</th>\n",
       "      <th>scrape_id</th>\n",
       "      <th>last_scraped</th>\n",
       "      <th>source</th>\n",
       "      <th>name</th>\n",
       "      <th>description</th>\n",
       "      <th>neighborhood_overview</th>\n",
       "      <th>picture_url</th>\n",
       "      <th>host_id</th>\n",
       "      <th>...</th>\n",
       "      <th>H_room_typed</th>\n",
       "      <th>instant_bookabled</th>\n",
       "      <th>D_price</th>\n",
       "      <th>D_host_listings</th>\n",
       "      <th>D_accuracy</th>\n",
       "      <th>D_availability</th>\n",
       "      <th>D_availability90</th>\n",
       "      <th>D_reviews</th>\n",
       "      <th>D_rating</th>\n",
       "      <th>D_accommodates</th>\n",
       "    </tr>\n",
       "  </thead>\n",
       "  <tbody>\n",
       "    <tr>\n",
       "      <th>0</th>\n",
       "      <td>35797</td>\n",
       "      <td>https://www.airbnb.com/rooms/35797</td>\n",
       "      <td>20241227033128</td>\n",
       "      <td>2024-12-27</td>\n",
       "      <td>city scrape</td>\n",
       "      <td>Villa Dante</td>\n",
       "      <td>Dentro de Villa un estudio de arte con futon, ...</td>\n",
       "      <td>Santa Fe Shopping Mall, Interlomas Park and th...</td>\n",
       "      <td>https://a0.muscache.com/pictures/f395ab78-1185...</td>\n",
       "      <td>153786</td>\n",
       "      <td>...</td>\n",
       "      <td>0</td>\n",
       "      <td>0</td>\n",
       "      <td>1</td>\n",
       "      <td>0</td>\n",
       "      <td>0</td>\n",
       "      <td>1</td>\n",
       "      <td>1</td>\n",
       "      <td>0</td>\n",
       "      <td>0</td>\n",
       "      <td>1</td>\n",
       "    </tr>\n",
       "    <tr>\n",
       "      <th>1</th>\n",
       "      <td>44616</td>\n",
       "      <td>https://www.airbnb.com/rooms/44616</td>\n",
       "      <td>20241227033128</td>\n",
       "      <td>2024-12-28</td>\n",
       "      <td>city scrape</td>\n",
       "      <td>Condesa Haus</td>\n",
       "      <td>A new concept of hosting in mexico through a b...</td>\n",
       "      <td>Coyoacan is a beautiful neighborhood famous fo...</td>\n",
       "      <td>https://a0.muscache.com/pictures/251410/ec75fe...</td>\n",
       "      <td>196253</td>\n",
       "      <td>...</td>\n",
       "      <td>0</td>\n",
       "      <td>0</td>\n",
       "      <td>1</td>\n",
       "      <td>1</td>\n",
       "      <td>0</td>\n",
       "      <td>1</td>\n",
       "      <td>1</td>\n",
       "      <td>1</td>\n",
       "      <td>0</td>\n",
       "      <td>1</td>\n",
       "    </tr>\n",
       "    <tr>\n",
       "      <th>2</th>\n",
       "      <td>67703</td>\n",
       "      <td>https://www.airbnb.com/rooms/67703</td>\n",
       "      <td>20241227033128</td>\n",
       "      <td>2024-12-28</td>\n",
       "      <td>city scrape</td>\n",
       "      <td>2 bedroom apt. deco bldg, Condesa</td>\n",
       "      <td>Comfortably furnished, sunny, 2 bedroom apt., ...</td>\n",
       "      <td>Coyoacan is a beautiful neighborhood famous fo...</td>\n",
       "      <td>https://a0.muscache.com/pictures/3281720/6f078...</td>\n",
       "      <td>334451</td>\n",
       "      <td>...</td>\n",
       "      <td>0</td>\n",
       "      <td>0</td>\n",
       "      <td>1</td>\n",
       "      <td>0</td>\n",
       "      <td>0</td>\n",
       "      <td>1</td>\n",
       "      <td>0</td>\n",
       "      <td>1</td>\n",
       "      <td>1</td>\n",
       "      <td>1</td>\n",
       "    </tr>\n",
       "    <tr>\n",
       "      <th>3</th>\n",
       "      <td>70644</td>\n",
       "      <td>https://www.airbnb.com/rooms/70644</td>\n",
       "      <td>20241227033128</td>\n",
       "      <td>2024-12-27</td>\n",
       "      <td>city scrape</td>\n",
       "      <td>Beautiful light Studio Coyoacan- full equipped !</td>\n",
       "      <td>COYOACAN designer studio quiet &amp; safe! well eq...</td>\n",
       "      <td>Coyoacan is a beautiful neighborhood famous fo...</td>\n",
       "      <td>https://a0.muscache.com/pictures/f397d2da-d045...</td>\n",
       "      <td>212109</td>\n",
       "      <td>...</td>\n",
       "      <td>0</td>\n",
       "      <td>0</td>\n",
       "      <td>1</td>\n",
       "      <td>0</td>\n",
       "      <td>0</td>\n",
       "      <td>0</td>\n",
       "      <td>0</td>\n",
       "      <td>1</td>\n",
       "      <td>1</td>\n",
       "      <td>1</td>\n",
       "    </tr>\n",
       "    <tr>\n",
       "      <th>4</th>\n",
       "      <td>131610</td>\n",
       "      <td>https://www.airbnb.com/rooms/131610</td>\n",
       "      <td>20241227033128</td>\n",
       "      <td>2024-12-28</td>\n",
       "      <td>previous scrape</td>\n",
       "      <td>MARIA DEL ALMA</td>\n",
       "      <td>Welcome to Your Home in Mexico City&lt;br /&gt;We ha...</td>\n",
       "      <td>San Miguel Chapultepec is the best kept secret...</td>\n",
       "      <td>https://a0.muscache.com/pictures/837085/b9ed71...</td>\n",
       "      <td>647454</td>\n",
       "      <td>...</td>\n",
       "      <td>0</td>\n",
       "      <td>0</td>\n",
       "      <td>1</td>\n",
       "      <td>0</td>\n",
       "      <td>0</td>\n",
       "      <td>0</td>\n",
       "      <td>0</td>\n",
       "      <td>0</td>\n",
       "      <td>1</td>\n",
       "      <td>1</td>\n",
       "    </tr>\n",
       "  </tbody>\n",
       "</table>\n",
       "<p>5 rows × 88 columns</p>\n",
       "</div>"
      ],
      "text/plain": [
       "       id                          listing_url       scrape_id last_scraped  \\\n",
       "0   35797   https://www.airbnb.com/rooms/35797  20241227033128   2024-12-27   \n",
       "1   44616   https://www.airbnb.com/rooms/44616  20241227033128   2024-12-28   \n",
       "2   67703   https://www.airbnb.com/rooms/67703  20241227033128   2024-12-28   \n",
       "3   70644   https://www.airbnb.com/rooms/70644  20241227033128   2024-12-27   \n",
       "4  131610  https://www.airbnb.com/rooms/131610  20241227033128   2024-12-28   \n",
       "\n",
       "            source                                              name  \\\n",
       "0      city scrape                                       Villa Dante   \n",
       "1      city scrape                                      Condesa Haus   \n",
       "2      city scrape                 2 bedroom apt. deco bldg, Condesa   \n",
       "3      city scrape  Beautiful light Studio Coyoacan- full equipped !   \n",
       "4  previous scrape                                    MARIA DEL ALMA   \n",
       "\n",
       "                                         description  \\\n",
       "0  Dentro de Villa un estudio de arte con futon, ...   \n",
       "1  A new concept of hosting in mexico through a b...   \n",
       "2  Comfortably furnished, sunny, 2 bedroom apt., ...   \n",
       "3  COYOACAN designer studio quiet & safe! well eq...   \n",
       "4  Welcome to Your Home in Mexico City<br />We ha...   \n",
       "\n",
       "                               neighborhood_overview  \\\n",
       "0  Santa Fe Shopping Mall, Interlomas Park and th...   \n",
       "1  Coyoacan is a beautiful neighborhood famous fo...   \n",
       "2  Coyoacan is a beautiful neighborhood famous fo...   \n",
       "3  Coyoacan is a beautiful neighborhood famous fo...   \n",
       "4  San Miguel Chapultepec is the best kept secret...   \n",
       "\n",
       "                                         picture_url  host_id  ...  \\\n",
       "0  https://a0.muscache.com/pictures/f395ab78-1185...   153786  ...   \n",
       "1  https://a0.muscache.com/pictures/251410/ec75fe...   196253  ...   \n",
       "2  https://a0.muscache.com/pictures/3281720/6f078...   334451  ...   \n",
       "3  https://a0.muscache.com/pictures/f397d2da-d045...   212109  ...   \n",
       "4  https://a0.muscache.com/pictures/837085/b9ed71...   647454  ...   \n",
       "\n",
       "  H_room_typed instant_bookabled D_price D_host_listings D_accuracy  \\\n",
       "0            0                 0       1               0          0   \n",
       "1            0                 0       1               1          0   \n",
       "2            0                 0       1               0          0   \n",
       "3            0                 0       1               0          0   \n",
       "4            0                 0       1               0          0   \n",
       "\n",
       "  D_availability D_availability90 D_reviews D_rating D_accommodates  \n",
       "0              1                1         0        0              1  \n",
       "1              1                1         1        0              1  \n",
       "2              1                0         1        1              1  \n",
       "3              0                0         1        1              1  \n",
       "4              0                0         0        1              1  \n",
       "\n",
       "[5 rows x 88 columns]"
      ]
     },
     "execution_count": 6,
     "metadata": {},
     "output_type": "execute_result"
    }
   ],
   "source": [
    "df.head(5)"
   ]
  },
  {
   "cell_type": "markdown",
   "metadata": {},
   "source": [
    "**CASO 1: accommodates, bathrooms, room_type**"
   ]
  },
  {
   "cell_type": "code",
   "execution_count": 7,
   "metadata": {},
   "outputs": [
    {
     "data": {
      "text/plain": [
       "array([0, 0, 0, ..., 0, 1, 0], dtype=int64)"
      ]
     },
     "execution_count": 7,
     "metadata": {},
     "output_type": "execute_result"
    }
   ],
   "source": [
    "#Declaramos las variables dependientes e independiente para las regresion Logisitica \n",
    "Vars_Indep = df[['D_accommodates', 'bathroomsd', 'E_room_typed']]\n",
    "Var_Dep = df['D_price']\n",
    "X = Vars_Indep\n",
    "y = Var_Dep\n",
    "\n",
    "#Dividimos el conjunto de datos en la parte de entrenamiento y prueba:\n",
    "X_train, X_test, y_train, y_test = train_test_split(X, y, test_size=0.3, random_state= None)\n",
    "\n",
    "#Se escalan los datos\n",
    "escalar = StandardScaler()\n",
    "#Para realizar el escalamiento de las variables \"X\" tanto de entrenamiento como de prueba, utilizaremos \n",
    "X_train = escalar.fit_transform(X_train)\n",
    "X_test = escalar.transform(X_test)\n",
    "\n",
    "#Definimos el algoritmo a utilizar\n",
    "from sklearn.linear_model import LogisticRegression\n",
    "algoritmo = LogisticRegression()\n",
    "\n",
    "algoritmo.fit(X_train, y_train)\n",
    "\n",
    "y_pred = algoritmo.predict(X_test)\n",
    "y_pred"
   ]
  },
  {
   "cell_type": "code",
   "execution_count": 8,
   "metadata": {},
   "outputs": [
    {
     "name": "stdout",
     "output_type": "stream",
     "text": [
      "Matriz de Confusion:\n",
      "[[1894 2024]\n",
      " [ 601 3366]]\n"
     ]
    }
   ],
   "source": [
    "#Verifico la matriz de Confusion\n",
    "from sklearn.metrics import confusion_matrix\n",
    "matriz = confusion_matrix(y_test, y_pred)\n",
    "print('Matriz de Confusion:')\n",
    "print(matriz)"
   ]
  },
  {
   "cell_type": "code",
   "execution_count": 9,
   "metadata": {},
   "outputs": [
    {
     "name": "stdout",
     "output_type": "stream",
     "text": [
      "Precision del modelo: \n",
      "0.6244897959183674\n"
     ]
    }
   ],
   "source": [
    "#Caulculo de la precisuin del modelo\n",
    "from sklearn.metrics import precision_score\n",
    "\n",
    "precision = precision_score(y_test, y_pred, average='binary')\n",
    "print(\"Precision del modelo: \")\n",
    "print(precision)"
   ]
  },
  {
   "cell_type": "code",
   "execution_count": 10,
   "metadata": {},
   "outputs": [
    {
     "name": "stdout",
     "output_type": "stream",
     "text": [
      "Exactitud del modelo: \n",
      "0.6670894102726697\n"
     ]
    }
   ],
   "source": [
    "from sklearn.metrics import accuracy_score\n",
    "\n",
    "exactitud = accuracy_score(y_test, y_pred)\n",
    "print(\"Exactitud del modelo: \")\n",
    "print(exactitud)\n"
   ]
  },
  {
   "cell_type": "code",
   "execution_count": 11,
   "metadata": {},
   "outputs": [
    {
     "name": "stdout",
     "output_type": "stream",
     "text": [
      "Sensibilidad del modelo:\n",
      "0.8485001260398286\n"
     ]
    }
   ],
   "source": [
    "#Calculo la sensibilidad del modelo\n",
    "from sklearn.metrics import recall_score\n",
    "sensibilidad = recall_score(y_test, y_pred, average=\"binary\")\n",
    "print('Sensibilidad del modelo:')\n",
    "print(sensibilidad)\n"
   ]
  },
  {
   "cell_type": "markdown",
   "metadata": {},
   "source": [
    "**CASO 2:** \n",
    "**price, host_listings, accuracy**"
   ]
  },
  {
   "cell_type": "code",
   "execution_count": 11,
   "metadata": {},
   "outputs": [
    {
     "data": {
      "text/plain": [
       "array([0, 0, 1, ..., 1, 1, 0], dtype=int64)"
      ]
     },
     "execution_count": 11,
     "metadata": {},
     "output_type": "execute_result"
    }
   ],
   "source": [
    "#Declaramos las variables dependientes e independiente para las regresion Logisitica \n",
    "Vars_Indep = df[['D_price', 'D_host_listings', 'D_accuracy']]\n",
    "Var_Dep = df['D_availability']\n",
    "X = Vars_Indep\n",
    "y = Var_Dep\n",
    "\n",
    "#Dividimos el conjunto de datos en la parte de entrenamiento y prueba:\n",
    "X_train, X_test, y_train, y_test = train_test_split(X, y, test_size=0.3, random_state= None)\n",
    "\n",
    "#Se escalan los datos\n",
    "escalar = StandardScaler()\n",
    "#Para realizar el escalamiento de las variables \"X\" tanto de entrenamiento como de prueba, utilizaremos \n",
    "X_train = escalar.fit_transform(X_train)\n",
    "X_test = escalar.transform(X_test)\n",
    "\n",
    "#Definimos el algoritmo a utilizar\n",
    "algoritmo = LogisticRegression()\n",
    "\n",
    "algoritmo.fit(X_train, y_train)\n",
    "\n",
    "y_pred = algoritmo.predict(X_test)\n",
    "y_pred"
   ]
  },
  {
   "cell_type": "code",
   "execution_count": 12,
   "metadata": {},
   "outputs": [
    {
     "name": "stdout",
     "output_type": "stream",
     "text": [
      "Matriz de Confusion:\n",
      "[[ 636 3153]\n",
      " [ 624 3471]]\n"
     ]
    }
   ],
   "source": [
    "#Verifico la matriz de Confusion\n",
    "matriz = confusion_matrix(y_test, y_pred)\n",
    "print('Matriz de Confusion:')\n",
    "print(matriz)"
   ]
  },
  {
   "cell_type": "code",
   "execution_count": 13,
   "metadata": {},
   "outputs": [
    {
     "name": "stdout",
     "output_type": "stream",
     "text": [
      "Precision del modelo: \n",
      "0.5240036231884058\n"
     ]
    }
   ],
   "source": [
    "#Caulculo de la precisuin del modelo\n",
    "precision = precision_score(y_test, y_pred, average='binary')\n",
    "print(\"Precision del modelo: \")\n",
    "print(precision)"
   ]
  },
  {
   "cell_type": "code",
   "execution_count": 14,
   "metadata": {},
   "outputs": [
    {
     "name": "stdout",
     "output_type": "stream",
     "text": [
      "Exactitud del modelo: \n",
      "0.5209284627092846\n"
     ]
    }
   ],
   "source": [
    "exactitud = accuracy_score(y_test, y_pred)\n",
    "print(\"Exactitud del modelo: \")\n",
    "print(exactitud)\n"
   ]
  },
  {
   "cell_type": "code",
   "execution_count": 15,
   "metadata": {},
   "outputs": [
    {
     "name": "stdout",
     "output_type": "stream",
     "text": [
      "Sensibilidad del modelo:\n",
      "0.8476190476190476\n"
     ]
    }
   ],
   "source": [
    "#Calculo la sensibilidad del modelo\n",
    "sensibilidad = recall_score(y_test, y_pred, average=\"binary\")\n",
    "print('Sensibilidad del modelo:')\n",
    "print(sensibilidad)\n"
   ]
  },
  {
   "cell_type": "markdown",
   "metadata": {},
   "source": [
    "**CASO 3:** \n",
    "**availability, number_of_reviews, review_scores_rating**"
   ]
  },
  {
   "cell_type": "code",
   "execution_count": 16,
   "metadata": {},
   "outputs": [
    {
     "data": {
      "text/plain": [
       "array([0, 0, 0, ..., 0, 0, 0], dtype=int64)"
      ]
     },
     "execution_count": 16,
     "metadata": {},
     "output_type": "execute_result"
    }
   ],
   "source": [
    "#Declaramos las variables dependientes e independiente para las regresion Logisitica \n",
    "Vars_Indep = df[['D_availability', 'D_reviews', 'D_rating']]\n",
    "Var_Dep = df['D_price']\n",
    "X = Vars_Indep\n",
    "y = Var_Dep\n",
    "\n",
    "#Dividimos el conjunto de datos en la parte de entrenamiento y prueba:\n",
    "X_train, X_test, y_train, y_test = train_test_split(X, y, test_size=0.3, random_state= None)\n",
    "\n",
    "#Se escalan los datos\n",
    "escalar = StandardScaler()\n",
    "#Para realizar el escalamiento de las variables \"X\" tanto de entrenamiento como de prueba, utilizaremos \n",
    "X_train = escalar.fit_transform(X_train)\n",
    "X_test = escalar.transform(X_test)\n",
    "\n",
    "#Definimos el algoritmo a utilizar\n",
    "algoritmo = LogisticRegression()\n",
    "\n",
    "algoritmo.fit(X_train, y_train)\n",
    "\n",
    "y_pred = algoritmo.predict(X_test)\n",
    "y_pred"
   ]
  },
  {
   "cell_type": "code",
   "execution_count": 17,
   "metadata": {},
   "outputs": [
    {
     "name": "stdout",
     "output_type": "stream",
     "text": [
      "Matriz de Confusion:\n",
      "[[2087 1840]\n",
      " [1802 2155]]\n"
     ]
    }
   ],
   "source": [
    "#Verifico la matriz de Confusion\n",
    "matriz = confusion_matrix(y_test, y_pred)\n",
    "print('Matriz de Confusion:')\n",
    "print(matriz)"
   ]
  },
  {
   "cell_type": "code",
   "execution_count": 18,
   "metadata": {},
   "outputs": [
    {
     "name": "stdout",
     "output_type": "stream",
     "text": [
      "Precision del modelo: \n",
      "0.5394242803504381\n"
     ]
    }
   ],
   "source": [
    "#Caulculo de la precisuin del modelo\n",
    "precision = precision_score(y_test, y_pred, average='binary')\n",
    "print(\"Precision del modelo: \")\n",
    "print(precision)"
   ]
  },
  {
   "cell_type": "code",
   "execution_count": 19,
   "metadata": {},
   "outputs": [
    {
     "name": "stdout",
     "output_type": "stream",
     "text": [
      "Exactitud del modelo: \n",
      "0.5380517503805176\n"
     ]
    }
   ],
   "source": [
    "exactitud = accuracy_score(y_test, y_pred)\n",
    "print(\"Exactitud del modelo: \")\n",
    "print(exactitud)\n"
   ]
  },
  {
   "cell_type": "code",
   "execution_count": 20,
   "metadata": {},
   "outputs": [
    {
     "name": "stdout",
     "output_type": "stream",
     "text": [
      "Sensibilidad del modelo:\n",
      "0.5446044983573414\n"
     ]
    }
   ],
   "source": [
    "#Calculo la sensibilidad del modelo\n",
    "sensibilidad = recall_score(y_test, y_pred, average=\"binary\")\n",
    "print('Sensibilidad del modelo:')\n",
    "print(sensibilidad)\n"
   ]
  },
  {
   "cell_type": "markdown",
   "metadata": {},
   "source": [
    "**CASO 4:** \n",
    "**bathrooms, number_of_reviews, price**"
   ]
  },
  {
   "cell_type": "code",
   "execution_count": 21,
   "metadata": {},
   "outputs": [
    {
     "data": {
      "text/plain": [
       "array([0, 0, 0, ..., 1, 1, 0], dtype=int64)"
      ]
     },
     "execution_count": 21,
     "metadata": {},
     "output_type": "execute_result"
    }
   ],
   "source": [
    "# Declaramos las variables dependientes e independientes para la regresión logística\n",
    "Vars_Indep = df[['bathroomsd', 'D_reviews', 'D_price']]\n",
    "Var_Dep = df['D_availability']\n",
    "X = Vars_Indep\n",
    "y = Var_Dep\n",
    "\n",
    "# Dividimos el conjunto de datos en entrenamiento y prueba\n",
    "X_train, X_test, y_train, y_test = train_test_split(X, y, test_size=0.3, random_state=None)\n",
    "\n",
    "# Se escalan los datos\n",
    "escalar = StandardScaler()\n",
    "X_train = escalar.fit_transform(X_train)\n",
    "X_test = escalar.transform(X_test)\n",
    "\n",
    "# Definimos el algoritmo a utilizar\n",
    "algoritmo = LogisticRegression()\n",
    "algoritmo.fit(X_train, y_train)\n",
    "\n",
    "# Hacemos las predicciones\n",
    "y_pred = algoritmo.predict(X_test)\n",
    "y_pred\n"
   ]
  },
  {
   "cell_type": "code",
   "execution_count": 22,
   "metadata": {},
   "outputs": [
    {
     "name": "stdout",
     "output_type": "stream",
     "text": [
      "Matriz de Confusion:\n",
      "[[1545 2276]\n",
      " [1379 2684]]\n"
     ]
    }
   ],
   "source": [
    "#Verifico la matriz de Confusion\n",
    "matriz = confusion_matrix(y_test, y_pred)\n",
    "print('Matriz de Confusion:')\n",
    "print(matriz)"
   ]
  },
  {
   "cell_type": "code",
   "execution_count": 23,
   "metadata": {},
   "outputs": [
    {
     "name": "stdout",
     "output_type": "stream",
     "text": [
      "Precision del modelo: \n",
      "0.5411290322580645\n"
     ]
    }
   ],
   "source": [
    "#Caulculo de la precisuin del modelo\n",
    "precision = precision_score(y_test, y_pred, average='binary')\n",
    "print(\"Precision del modelo: \")\n",
    "print(precision)"
   ]
  },
  {
   "cell_type": "code",
   "execution_count": 24,
   "metadata": {},
   "outputs": [
    {
     "name": "stdout",
     "output_type": "stream",
     "text": [
      "Exactitud del modelo: \n",
      "0.5364028411973617\n"
     ]
    }
   ],
   "source": [
    "exactitud = accuracy_score(y_test, y_pred)\n",
    "print(\"Exactitud del modelo: \")\n",
    "print(exactitud)\n"
   ]
  },
  {
   "cell_type": "code",
   "execution_count": 25,
   "metadata": {},
   "outputs": [
    {
     "name": "stdout",
     "output_type": "stream",
     "text": [
      "Sensibilidad del modelo:\n",
      "0.6605956190007384\n"
     ]
    }
   ],
   "source": [
    "#Calculo la sensibilidad del modelo\n",
    "sensibilidad = recall_score(y_test, y_pred, average=\"binary\")\n",
    "print('Sensibilidad del modelo:')\n",
    "print(sensibilidad)\n"
   ]
  },
  {
   "cell_type": "markdown",
   "metadata": {},
   "source": [
    "**CASO 5:** \n",
    "**accommodates, review_scores_rating, availability_30**"
   ]
  },
  {
   "cell_type": "code",
   "execution_count": 26,
   "metadata": {},
   "outputs": [
    {
     "data": {
      "text/plain": [
       "array([1, 1, 0, ..., 1, 1, 1], dtype=int64)"
      ]
     },
     "execution_count": 26,
     "metadata": {},
     "output_type": "execute_result"
    }
   ],
   "source": [
    "# Declaramos las variables dependientes e independientes para la regresión logística\n",
    "Vars_Indep = df[['D_accommodates', 'D_reviews', 'D_availability']]\n",
    "Var_Dep = df['D_price']\n",
    "X = Vars_Indep\n",
    "y = Var_Dep\n",
    "\n",
    "# Dividimos el conjunto de datos en entrenamiento y prueba\n",
    "X_train, X_test, y_train, y_test = train_test_split(X, y, test_size=0.3, random_state=None)\n",
    "\n",
    "# Se escalan los datos\n",
    "escalar = StandardScaler()\n",
    "X_train = escalar.fit_transform(X_train)\n",
    "X_test = escalar.transform(X_test)\n",
    "\n",
    "# Definimos el algoritmo a utilizar\n",
    "algoritmo = LogisticRegression()\n",
    "algoritmo.fit(X_train, y_train)\n",
    "\n",
    "# Hacemos las predicciones\n",
    "y_pred = algoritmo.predict(X_test)\n",
    "y_pred\n"
   ]
  },
  {
   "cell_type": "code",
   "execution_count": 27,
   "metadata": {},
   "outputs": [
    {
     "name": "stdout",
     "output_type": "stream",
     "text": [
      "Matriz de Confusion:\n",
      "[[ 753 3122]\n",
      " [ 116 3893]]\n"
     ]
    }
   ],
   "source": [
    "#Verifico la matriz de Confusion\n",
    "matriz = confusion_matrix(y_test, y_pred)\n",
    "print('Matriz de Confusion:')\n",
    "print(matriz)"
   ]
  },
  {
   "cell_type": "code",
   "execution_count": 28,
   "metadata": {},
   "outputs": [
    {
     "name": "stdout",
     "output_type": "stream",
     "text": [
      "Precision del modelo: \n",
      "0.5549536707056308\n"
     ]
    }
   ],
   "source": [
    "#Caulculo de la precisuin del modelo\n",
    "precision = precision_score(y_test, y_pred, average='binary')\n",
    "print(\"Precision del modelo: \")\n",
    "print(precision)"
   ]
  },
  {
   "cell_type": "code",
   "execution_count": 29,
   "metadata": {},
   "outputs": [
    {
     "name": "stdout",
     "output_type": "stream",
     "text": [
      "Exactitud del modelo: \n",
      "0.5892947742262811\n"
     ]
    }
   ],
   "source": [
    "exactitud = accuracy_score(y_test, y_pred)\n",
    "print(\"Exactitud del modelo: \")\n",
    "print(exactitud)\n"
   ]
  },
  {
   "cell_type": "code",
   "execution_count": 30,
   "metadata": {},
   "outputs": [
    {
     "name": "stdout",
     "output_type": "stream",
     "text": [
      "Sensibilidad del modelo:\n",
      "0.9710651035170865\n"
     ]
    }
   ],
   "source": [
    "#Calculo la sensibilidad del modelo\n",
    "sensibilidad = recall_score(y_test, y_pred, average=\"binary\")\n",
    "print('Sensibilidad del modelo:')\n",
    "print(sensibilidad)\n"
   ]
  },
  {
   "cell_type": "markdown",
   "metadata": {},
   "source": [
    "**CASO 6:** \n",
    "**instant_bookable, review_scores_rating, availability_90**"
   ]
  },
  {
   "cell_type": "code",
   "execution_count": 31,
   "metadata": {},
   "outputs": [
    {
     "data": {
      "text/plain": [
       "array([1, 0, 0, ..., 1, 0, 1], dtype=int64)"
      ]
     },
     "execution_count": 31,
     "metadata": {},
     "output_type": "execute_result"
    }
   ],
   "source": [
    "\n",
    "# Declaramos las variables dependientes e independientes para la regresión logística\n",
    "Vars_Indep = df[['instant_bookabled', 'D_reviews', 'D_availability90']]\n",
    "Var_Dep = df['D_price']\n",
    "X = Vars_Indep\n",
    "y = Var_Dep\n",
    "\n",
    "# Dividimos el conjunto de datos en entrenamiento y prueba\n",
    "X_train, X_test, y_train, y_test = train_test_split(X, y, test_size=0.3, random_state=None)\n",
    "\n",
    "# Se escalan los datos\n",
    "X_train = escalar.fit_transform(X_train)\n",
    "X_test = escalar.transform(X_test)\n",
    "\n",
    "# Definimos el algoritmo a utilizar\n",
    "algoritmo = LogisticRegression()\n",
    "algoritmo.fit(X_train, y_train)\n",
    "\n",
    "# Hacemos las predicciones\n",
    "y_pred = algoritmo.predict(X_test)\n",
    "y_pred\n"
   ]
  },
  {
   "cell_type": "code",
   "execution_count": 32,
   "metadata": {},
   "outputs": [
    {
     "name": "stdout",
     "output_type": "stream",
     "text": [
      "Matriz de Confusion:\n",
      "[[1980 1928]\n",
      " [1925 2051]]\n"
     ]
    }
   ],
   "source": [
    "#Verifico la matriz de Confusion\n",
    "matriz = confusion_matrix(y_test, y_pred)\n",
    "print('Matriz de Confusion:')\n",
    "print(matriz)"
   ]
  },
  {
   "cell_type": "code",
   "execution_count": 33,
   "metadata": {},
   "outputs": [
    {
     "name": "stdout",
     "output_type": "stream",
     "text": [
      "Precision del modelo: \n",
      "0.5154561447599899\n"
     ]
    }
   ],
   "source": [
    "#Caulculo de la precisuin del modelo\n",
    "precision = precision_score(y_test, y_pred, average='binary')\n",
    "print(\"Precision del modelo: \")\n",
    "print(precision)"
   ]
  },
  {
   "cell_type": "code",
   "execution_count": 34,
   "metadata": {},
   "outputs": [
    {
     "name": "stdout",
     "output_type": "stream",
     "text": [
      "Exactitud del modelo: \n",
      "0.5112886859462202\n"
     ]
    }
   ],
   "source": [
    "exactitud = accuracy_score(y_test, y_pred)\n",
    "print(\"Exactitud del modelo: \")\n",
    "print(exactitud)\n"
   ]
  },
  {
   "cell_type": "code",
   "execution_count": 35,
   "metadata": {},
   "outputs": [
    {
     "name": "stdout",
     "output_type": "stream",
     "text": [
      "Sensibilidad del modelo:\n",
      "0.5158450704225352\n"
     ]
    }
   ],
   "source": [
    "#Calculo la sensibilidad del modelo\n",
    "sensibilidad = recall_score(y_test, y_pred, average=\"binary\")\n",
    "print('Sensibilidad del modelo:')\n",
    "print(sensibilidad)\n"
   ]
  },
  {
   "cell_type": "markdown",
   "metadata": {},
   "source": [
    "**CASO 7:** \n",
    "**bathrooms, availability_30, host_listings**"
   ]
  },
  {
   "cell_type": "code",
   "execution_count": 36,
   "metadata": {},
   "outputs": [
    {
     "data": {
      "text/plain": [
       "array([0, 0, 0, ..., 1, 1, 1], dtype=int64)"
      ]
     },
     "execution_count": 36,
     "metadata": {},
     "output_type": "execute_result"
    }
   ],
   "source": [
    "\n",
    "# Declaramos las variables dependientes e independientes para la regresión logística\n",
    "Vars_Indep = df[['bathroomsd', 'D_availability', 'D_host_listings']]\n",
    "Var_Dep = df['D_reviews']\n",
    "X = Vars_Indep\n",
    "y = Var_Dep\n",
    "\n",
    "# Dividimos el conjunto de datos en entrenamiento y prueba\n",
    "X_train, X_test, y_train, y_test = train_test_split(X, y, test_size=0.3, random_state=None)\n",
    "\n",
    "# Se escalan los datos\n",
    "X_train = escalar.fit_transform(X_train)\n",
    "X_test = escalar.transform(X_test)\n",
    "\n",
    "# Definimos el algoritmo a utilizar\n",
    "algoritmo = LogisticRegression()\n",
    "algoritmo.fit(X_train, y_train)\n",
    "\n",
    "# Hacemos las predicciones\n",
    "y_pred = algoritmo.predict(X_test)\n",
    "y_pred\n"
   ]
  },
  {
   "cell_type": "code",
   "execution_count": 37,
   "metadata": {},
   "outputs": [
    {
     "name": "stdout",
     "output_type": "stream",
     "text": [
      "Matriz de Confusion:\n",
      "[[1884 1981]\n",
      " [1735 2284]]\n"
     ]
    }
   ],
   "source": [
    "#Verifico la matriz de Confusion\n",
    "matriz = confusion_matrix(y_test, y_pred)\n",
    "print('Matriz de Confusion:')\n",
    "print(matriz)"
   ]
  },
  {
   "cell_type": "code",
   "execution_count": 38,
   "metadata": {},
   "outputs": [
    {
     "name": "stdout",
     "output_type": "stream",
     "text": [
      "Precision del modelo: \n",
      "0.5355216881594372\n"
     ]
    }
   ],
   "source": [
    "#Caulculo de la precisuin del modelo\n",
    "precision = precision_score(y_test, y_pred, average='binary')\n",
    "print(\"Precision del modelo: \")\n",
    "print(precision)"
   ]
  },
  {
   "cell_type": "code",
   "execution_count": 39,
   "metadata": {},
   "outputs": [
    {
     "name": "stdout",
     "output_type": "stream",
     "text": [
      "Exactitud del modelo: \n",
      "0.5286656519533232\n"
     ]
    }
   ],
   "source": [
    "exactitud = accuracy_score(y_test, y_pred)\n",
    "print(\"Exactitud del modelo: \")\n",
    "print(exactitud)\n"
   ]
  },
  {
   "cell_type": "code",
   "execution_count": 40,
   "metadata": {},
   "outputs": [
    {
     "name": "stdout",
     "output_type": "stream",
     "text": [
      "Sensibilidad del modelo:\n",
      "0.5683005722816621\n"
     ]
    }
   ],
   "source": [
    "#Calculo la sensibilidad del modelo\n",
    "sensibilidad = recall_score(y_test, y_pred, average=\"binary\")\n",
    "print('Sensibilidad del modelo:')\n",
    "print(sensibilidad)\n"
   ]
  },
  {
   "cell_type": "markdown",
   "metadata": {},
   "source": [
    "**CASO 8:** \n",
    "**price, accommodates, review_scores_rating**"
   ]
  },
  {
   "cell_type": "code",
   "execution_count": 41,
   "metadata": {},
   "outputs": [
    {
     "data": {
      "text/plain": [
       "array([1, 1, 1, ..., 1, 1, 1], dtype=int64)"
      ]
     },
     "execution_count": 41,
     "metadata": {},
     "output_type": "execute_result"
    }
   ],
   "source": [
    "\n",
    "# Declaramos las variables dependientes e independientes para la regresión logística\n",
    "Vars_Indep = df[['D_price', 'D_accommodates', 'D_rating']]\n",
    "Var_Dep = df['D_reviews']\n",
    "X = Vars_Indep\n",
    "y = Var_Dep\n",
    "\n",
    "# Dividimos el conjunto de datos en entrenamiento y prueba\n",
    "X_train, X_test, y_train, y_test = train_test_split(X, y, test_size=0.3, random_state=None)\n",
    "\n",
    "# Se escalan los datos\n",
    "X_train = escalar.fit_transform(X_train)\n",
    "X_test = escalar.transform(X_test)\n",
    "\n",
    "# Definimos el algoritmo a utilizar\n",
    "algoritmo = LogisticRegression()\n",
    "algoritmo.fit(X_train, y_train)\n",
    "\n",
    "# Hacemos las predicciones\n",
    "y_pred = algoritmo.predict(X_test)\n",
    "y_pred\n"
   ]
  },
  {
   "cell_type": "code",
   "execution_count": 42,
   "metadata": {},
   "outputs": [
    {
     "name": "stdout",
     "output_type": "stream",
     "text": [
      "Matriz de Confusion:\n",
      "[[1742 2166]\n",
      " [1300 2676]]\n"
     ]
    }
   ],
   "source": [
    "#Verifico la matriz de Confusion\n",
    "matriz = confusion_matrix(y_test, y_pred)\n",
    "precision = precision_score(y_test, y_pred, average='binary')\n",
    "exactitud = accuracy_score(y_test, y_pred)\n",
    "\n",
    "print('Matriz de Confusion:')\n",
    "print(matriz)"
   ]
  },
  {
   "cell_type": "code",
   "execution_count": 43,
   "metadata": {},
   "outputs": [
    {
     "name": "stdout",
     "output_type": "stream",
     "text": [
      "Precision del modelo: \n",
      "0.5526641883519207\n"
     ]
    }
   ],
   "source": [
    "#Caulculo de la precisuin del modelo\n",
    "precision = precision_score(y_test, y_pred, average='binary')\n",
    "print(\"Precision del modelo: \")\n",
    "print(precision)"
   ]
  },
  {
   "cell_type": "code",
   "execution_count": 44,
   "metadata": {},
   "outputs": [
    {
     "name": "stdout",
     "output_type": "stream",
     "text": [
      "Exactitud del modelo: \n",
      "0.5603754439370878\n"
     ]
    }
   ],
   "source": [
    "exactitud = accuracy_score(y_test, y_pred)\n",
    "print(\"Exactitud del modelo: \")\n",
    "print(exactitud)\n"
   ]
  },
  {
   "cell_type": "code",
   "execution_count": 45,
   "metadata": {},
   "outputs": [
    {
     "name": "stdout",
     "output_type": "stream",
     "text": [
      "Sensibilidad del modelo:\n",
      "0.6730382293762576\n"
     ]
    }
   ],
   "source": [
    "#Calculo la sensibilidad del modelo\n",
    "sensibilidad = recall_score(y_test, y_pred, average=\"binary\")\n",
    "print('Sensibilidad del modelo:')\n",
    "print(sensibilidad)\n"
   ]
  },
  {
   "cell_type": "markdown",
   "metadata": {},
   "source": [
    "**CASO 9:** \n",
    "**bathrooms, review_scores_accuracy, review_scores_rating**"
   ]
  },
  {
   "cell_type": "code",
   "execution_count": 46,
   "metadata": {},
   "outputs": [
    {
     "data": {
      "text/plain": [
       "array([1, 0, 0, ..., 0, 0, 0], dtype=int64)"
      ]
     },
     "execution_count": 46,
     "metadata": {},
     "output_type": "execute_result"
    }
   ],
   "source": [
    "\n",
    "# Declaramos las variables dependientes e independientes para la regresión logística\n",
    "Vars_Indep = df[['bathroomsd', 'D_accuracy', 'D_rating']]\n",
    "Var_Dep = df['D_price']\n",
    "X = Vars_Indep\n",
    "y = Var_Dep\n",
    "\n",
    "# Dividimos el conjunto de datos en entrenamiento y prueba\n",
    "X_train, X_test, y_train, y_test = train_test_split(X, y, test_size=0.3, random_state=None)\n",
    "\n",
    "# Se escalan los datos\n",
    "X_train = escalar.fit_transform(X_train)\n",
    "X_test = escalar.transform(X_test)\n",
    "\n",
    "# Definimos el algoritmo a utilizar\n",
    "algoritmo = LogisticRegression()\n",
    "algoritmo.fit(X_train, y_train)\n",
    "\n",
    "# Hacemos las predicciones\n",
    "y_pred = algoritmo.predict(X_test)\n",
    "y_pred\n"
   ]
  },
  {
   "cell_type": "code",
   "execution_count": 47,
   "metadata": {},
   "outputs": [
    {
     "name": "stdout",
     "output_type": "stream",
     "text": [
      "Matriz de Confusion:\n",
      "[[3391  499]\n",
      " [2307 1687]]\n"
     ]
    }
   ],
   "source": [
    "#Verifico la matriz de Confusion\n",
    "matriz = confusion_matrix(y_test, y_pred)\n",
    "precision = precision_score(y_test, y_pred, average='binary')\n",
    "exactitud = accuracy_score(y_test, y_pred)\n",
    "\n",
    "print('Matriz de Confusion:')\n",
    "print(matriz)"
   ]
  },
  {
   "cell_type": "code",
   "execution_count": 48,
   "metadata": {},
   "outputs": [
    {
     "name": "stdout",
     "output_type": "stream",
     "text": [
      "Precision del modelo: \n",
      "0.7717291857273559\n"
     ]
    }
   ],
   "source": [
    "#Caulculo de la precisuin del modelo\n",
    "precision = precision_score(y_test, y_pred, average='binary')\n",
    "print(\"Precision del modelo: \")\n",
    "print(precision)"
   ]
  },
  {
   "cell_type": "code",
   "execution_count": 49,
   "metadata": {},
   "outputs": [
    {
     "name": "stdout",
     "output_type": "stream",
     "text": [
      "Exactitud del modelo: \n",
      "0.6440892947742263\n"
     ]
    }
   ],
   "source": [
    "exactitud = accuracy_score(y_test, y_pred)\n",
    "print(\"Exactitud del modelo: \")\n",
    "print(exactitud)\n"
   ]
  },
  {
   "cell_type": "code",
   "execution_count": 50,
   "metadata": {},
   "outputs": [
    {
     "name": "stdout",
     "output_type": "stream",
     "text": [
      "Sensibilidad del modelo:\n",
      "0.42238357536304455\n"
     ]
    }
   ],
   "source": [
    "#Calculo la sensibilidad del modelo\n",
    "sensibilidad = recall_score(y_test, y_pred, average=\"binary\")\n",
    "print('Sensibilidad del modelo:')\n",
    "print(sensibilidad)"
   ]
  },
  {
   "cell_type": "markdown",
   "metadata": {},
   "source": [
    "**CASO 10:** \n",
    "**availabilit_90, host_total_listings_count, number_of_reviews**"
   ]
  },
  {
   "cell_type": "code",
   "execution_count": 51,
   "metadata": {},
   "outputs": [
    {
     "data": {
      "text/plain": [
       "array([0, 1, 0, ..., 0, 1, 1], dtype=int64)"
      ]
     },
     "execution_count": 51,
     "metadata": {},
     "output_type": "execute_result"
    }
   ],
   "source": [
    "# Declaramos las variables dependientes e independientes para la regresión logística\n",
    "Vars_Indep = df[['D_availability90', 'D_host_listings', 'D_reviews']]\n",
    "Var_Dep = df['D_price']\n",
    "X = Vars_Indep\n",
    "y = Var_Dep\n",
    "\n",
    "# Dividimos el conjunto de datos en entrenamiento y prueba\n",
    "X_train, X_test, y_train, y_test = train_test_split(X, y, test_size=0.3, random_state=None)\n",
    "\n",
    "# Se escalan los datos\n",
    "X_train = escalar.fit_transform(X_train)\n",
    "X_test = escalar.transform(X_test)\n",
    "\n",
    "# Definimos el algoritmo a utilizar\n",
    "algoritmo = LogisticRegression()\n",
    "algoritmo.fit(X_train, y_train)\n",
    "\n",
    "# Hacemos las predicciones\n",
    "y_pred = algoritmo.predict(X_test)\n",
    "y_pred\n"
   ]
  },
  {
   "cell_type": "code",
   "execution_count": 52,
   "metadata": {},
   "outputs": [
    {
     "name": "stdout",
     "output_type": "stream",
     "text": [
      "Matriz de Confusion:\n",
      "[[1942 1980]\n",
      " [1902 2060]]\n"
     ]
    }
   ],
   "source": [
    "#Verifico la matriz de Confusion\n",
    "matriz = confusion_matrix(y_test, y_pred)\n",
    "precision = precision_score(y_test, y_pred, average='binary')\n",
    "exactitud = accuracy_score(y_test, y_pred)\n",
    "\n",
    "print('Matriz de Confusion:')\n",
    "print(matriz)"
   ]
  },
  {
   "cell_type": "code",
   "execution_count": 53,
   "metadata": {},
   "outputs": [
    {
     "name": "stdout",
     "output_type": "stream",
     "text": [
      "Precision del modelo: \n",
      "0.5099009900990099\n"
     ]
    }
   ],
   "source": [
    "#Caulculo de la precisuin del modelo\n",
    "precision = precision_score(y_test, y_pred, average='binary')\n",
    "print(\"Precision del modelo: \")\n",
    "print(precision)"
   ]
  },
  {
   "cell_type": "code",
   "execution_count": 54,
   "metadata": {},
   "outputs": [
    {
     "name": "stdout",
     "output_type": "stream",
     "text": [
      "Exactitud del modelo: \n",
      "0.5076103500761036\n"
     ]
    }
   ],
   "source": [
    "exactitud = accuracy_score(y_test, y_pred)\n",
    "print(\"Exactitud del modelo: \")\n",
    "print(exactitud)\n"
   ]
  },
  {
   "cell_type": "code",
   "execution_count": 55,
   "metadata": {},
   "outputs": [
    {
     "name": "stdout",
     "output_type": "stream",
     "text": [
      "Sensibilidad del modelo:\n",
      "0.5199394245330641\n"
     ]
    }
   ],
   "source": [
    "#Calculo la sensibilidad del modelo\n",
    "sensibilidad = recall_score(y_test, y_pred, average=\"binary\")\n",
    "print('Sensibilidad del modelo:')\n",
    "print(sensibilidad)"
   ]
  }
 ],
 "metadata": {
  "kernelspec": {
   "display_name": "Python 3",
   "language": "python",
   "name": "python3"
  },
  "language_info": {
   "codemirror_mode": {
    "name": "ipython",
    "version": 3
   },
   "file_extension": ".py",
   "mimetype": "text/x-python",
   "name": "python",
   "nbconvert_exporter": "python",
   "pygments_lexer": "ipython3",
   "version": "3.12.4"
  }
 },
 "nbformat": 4,
 "nbformat_minor": 2
}
