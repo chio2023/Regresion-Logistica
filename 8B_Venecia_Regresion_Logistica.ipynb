{
 "cells": [
  {
   "cell_type": "code",
   "execution_count": 1,
   "metadata": {},
   "outputs": [],
   "source": [
    "#Cargamos librerias\n",
    "import pandas as pd\n",
    "import numpy as np\n",
    "import matplotlib.pyplot as plt\n",
    "from funpymodeling.exploratory import freq_tbl\n",
    "import scipy.special as special\n",
    "from scipy.optimize import curve_fit\n",
    "import seaborn as sns\n",
    "from sklearn.metrics import r2_score\n",
    "from sklearn.model_selection import train_test_split\n",
    "from sklearn.preprocessing import StandardScaler"
   ]
  },
  {
   "cell_type": "code",
   "execution_count": 2,
   "metadata": {},
   "outputs": [],
   "source": [
    "df = pd.read_csv('venecia.csv')"
   ]
  },
  {
   "cell_type": "code",
   "execution_count": 3,
   "metadata": {},
   "outputs": [
    {
     "name": "stderr",
     "output_type": "stream",
     "text": [
      "C:\\Users\\HP\\AppData\\Local\\Temp\\ipykernel_16752\\1730909967.py:1: FutureWarning: DataFrame.fillna with 'method' is deprecated and will raise in a future version. Use obj.ffill() or obj.bfill() instead.\n",
      "  df= df.fillna(method=\"bfill\")\n",
      "C:\\Users\\HP\\AppData\\Local\\Temp\\ipykernel_16752\\1730909967.py:2: FutureWarning: DataFrame.fillna with 'method' is deprecated and will raise in a future version. Use obj.ffill() or obj.bfill() instead.\n",
      "  df= df.fillna(method=\"ffill\")\n"
     ]
    }
   ],
   "source": [
    "df= df.fillna(method=\"bfill\")\n",
    "df= df.fillna(method=\"ffill\")\n",
    "df = df.bfill()\n",
    "df= df.ffill()"
   ]
  },
  {
   "cell_type": "markdown",
   "metadata": {},
   "source": [
    "**Transformando variables a tipo dicotómicas**"
   ]
  },
  {
   "cell_type": "code",
   "execution_count": 4,
   "metadata": {},
   "outputs": [
    {
     "name": "stderr",
     "output_type": "stream",
     "text": [
      "<>:12: SyntaxWarning: invalid escape sequence '\\$'\n",
      "<>:12: SyntaxWarning: invalid escape sequence '\\$'\n",
      "C:\\Users\\HP\\AppData\\Local\\Temp\\ipykernel_16752\\2275433636.py:12: SyntaxWarning: invalid escape sequence '\\$'\n",
      "  df[\"price\"] = df[\"price\"].replace('[\\$,]', '', regex=True).astype(float)\n"
     ]
    }
   ],
   "source": [
    "\n",
    "#bathrooms_text\n",
    "df[\"bathroomsd\"] = df[\"bathrooms_text\"].astype(str).apply(lambda x: 1 if \"2\" in x or \"3\" in x or \"4\" in x else 0)\n",
    "#room_type Entire home\n",
    "df[\"E_room_typed\"] = df[\"room_type\"].apply(lambda x: 1 if x == \"Entire home/apt\" else 0)\n",
    "#room_type Private home\n",
    "df[\"P_room_typed\"] = df[\"room_type\"].apply(lambda x: 1 if x == \"Private room\" else 0)\n",
    "#room_type Hotel home\n",
    "df[\"H_room_typed\"] = df[\"room_type\"].apply(lambda x: 1 if x == \"Hotel room\" else 0)\n",
    "#instant_bookabled\n",
    "df[\"instant_bookabled\"] = df[\"instant_bookable\"].apply(lambda x: 1 if x == \"t\" else 0)\n",
    "#Price\n",
    "df[\"price\"] = df[\"price\"].replace('[\\$,]', '', regex=True).astype(float)\n",
    "Mprice = df[\"price\"].median()\n",
    "df[\"D_price\"] = df[\"price\"].apply(lambda x: 1 if x >= Mprice else 0)\n",
    "#host_total_listings_count\n",
    "Mlistings = df[\"host_total_listings_count\"].median()\n",
    "df[\"D_host_listings\"] = df[\"host_total_listings_count\"].apply(lambda x: 1 if x >= Mlistings else 0)\n",
    "#host_total_listings_count\n",
    "Maccuracy = df[\"host_total_listings_count\"].median()\n",
    "df[\"D_accuracy\"] = df[\"review_scores_accuracy\"].apply(lambda x: 1 if x >= Maccuracy else 0)\n",
    "#availability_30\n",
    "Mavailability = df[\"availability_30\"].median()\n",
    "df[\"D_availability\"] = df[\"availability_30\"].apply(lambda x: 1 if x >= Mavailability else 0)\n",
    "#availability_90\n",
    "Mavailability90 = df[\"availability_90\"].median()\n",
    "df[\"D_availability90\"] = df[\"availability_90\"].apply(lambda x: 1 if x >= Mavailability90 else 0)\n",
    "#number_of_reviews\n",
    "Mreviews = df[\"number_of_reviews\"].median()\n",
    "df[\"D_reviews\"] = df[\"number_of_reviews\"].apply(lambda x: 1 if x >= Mreviews else 0)\n",
    "#review_scores_rating\n",
    "Mrating = df[\"review_scores_rating\"].median()\n",
    "df[\"D_rating\"] = df[\"review_scores_rating\"].apply(lambda x: 1 if x >= Mrating else 0)\n",
    "#review_scores_rating\n",
    "Maccommodates = df[\"accommodates\"].median()\n",
    "df[\"D_accommodates\"] = df[\"accommodates\"].apply(lambda x: 1 if x >= Maccommodates else 0)\n",
    "\n"
   ]
  },
  {
   "cell_type": "code",
   "execution_count": 5,
   "metadata": {},
   "outputs": [
    {
     "data": {
      "text/html": [
       "<div>\n",
       "<style scoped>\n",
       "    .dataframe tbody tr th:only-of-type {\n",
       "        vertical-align: middle;\n",
       "    }\n",
       "\n",
       "    .dataframe tbody tr th {\n",
       "        vertical-align: top;\n",
       "    }\n",
       "\n",
       "    .dataframe thead th {\n",
       "        text-align: right;\n",
       "    }\n",
       "</style>\n",
       "<table border=\"1\" class=\"dataframe\">\n",
       "  <thead>\n",
       "    <tr style=\"text-align: right;\">\n",
       "      <th></th>\n",
       "      <th>id</th>\n",
       "      <th>scrape_id</th>\n",
       "      <th>last_scraped</th>\n",
       "      <th>source</th>\n",
       "      <th>name</th>\n",
       "      <th>description</th>\n",
       "      <th>neighborhood_overview</th>\n",
       "      <th>host_id</th>\n",
       "      <th>host_name</th>\n",
       "      <th>host_since</th>\n",
       "      <th>...</th>\n",
       "      <th>H_room_typed</th>\n",
       "      <th>instant_bookabled</th>\n",
       "      <th>D_price</th>\n",
       "      <th>D_host_listings</th>\n",
       "      <th>D_accuracy</th>\n",
       "      <th>D_availability</th>\n",
       "      <th>D_availability90</th>\n",
       "      <th>D_reviews</th>\n",
       "      <th>D_rating</th>\n",
       "      <th>D_accommodates</th>\n",
       "    </tr>\n",
       "  </thead>\n",
       "  <tbody>\n",
       "    <tr>\n",
       "      <th>0</th>\n",
       "      <td>6624.0</td>\n",
       "      <td>2.025030e+13</td>\n",
       "      <td>02/03/2025</td>\n",
       "      <td>city scrape</td>\n",
       "      <td>Venice garden charme and canal view!</td>\n",
       "      <td>I'm thrilled to share my apartment with garden...</td>\n",
       "      <td>We are in the middle of a residential area cal...</td>\n",
       "      <td>15016</td>\n",
       "      <td>Francesca</td>\n",
       "      <td>27/04/2009</td>\n",
       "      <td>...</td>\n",
       "      <td>0</td>\n",
       "      <td>0</td>\n",
       "      <td>1</td>\n",
       "      <td>1</td>\n",
       "      <td>0</td>\n",
       "      <td>1</td>\n",
       "      <td>1</td>\n",
       "      <td>1</td>\n",
       "      <td>1</td>\n",
       "      <td>1</td>\n",
       "    </tr>\n",
       "    <tr>\n",
       "      <th>1</th>\n",
       "      <td>27116.0</td>\n",
       "      <td>2.025030e+13</td>\n",
       "      <td>02/03/2025</td>\n",
       "      <td>city scrape</td>\n",
       "      <td>Junior Suite with balcony overlooking canal</td>\n",
       "      <td>Few steps from Saint Mark square, on a picture...</td>\n",
       "      <td>The area is very beautiful and characteristic,...</td>\n",
       "      <td>116144</td>\n",
       "      <td>GiÃ²&amp;GiÃ²</td>\n",
       "      <td>30/04/2010</td>\n",
       "      <td>...</td>\n",
       "      <td>0</td>\n",
       "      <td>1</td>\n",
       "      <td>1</td>\n",
       "      <td>0</td>\n",
       "      <td>0</td>\n",
       "      <td>0</td>\n",
       "      <td>0</td>\n",
       "      <td>1</td>\n",
       "      <td>1</td>\n",
       "      <td>0</td>\n",
       "    </tr>\n",
       "    <tr>\n",
       "      <th>2</th>\n",
       "      <td>44527.0</td>\n",
       "      <td>2.025030e+13</td>\n",
       "      <td>02/03/2025</td>\n",
       "      <td>city scrape</td>\n",
       "      <td>Luxury Historic Apartment on Calm Sunny Canal</td>\n",
       "      <td>An apartment that blends Gothic style with ini...</td>\n",
       "      <td>Cannaregio is a well-connected, truly Venetian...</td>\n",
       "      <td>120215</td>\n",
       "      <td>Marc &amp; Elisabeth</td>\n",
       "      <td>07/05/2010</td>\n",
       "      <td>...</td>\n",
       "      <td>0</td>\n",
       "      <td>0</td>\n",
       "      <td>1</td>\n",
       "      <td>1</td>\n",
       "      <td>0</td>\n",
       "      <td>1</td>\n",
       "      <td>1</td>\n",
       "      <td>1</td>\n",
       "      <td>1</td>\n",
       "      <td>1</td>\n",
       "    </tr>\n",
       "    <tr>\n",
       "      <th>3</th>\n",
       "      <td>47383.0</td>\n",
       "      <td>2.025030e+13</td>\n",
       "      <td>02/03/2025</td>\n",
       "      <td>city scrape</td>\n",
       "      <td>Ca' Barba B&amp;B: room n102 (jacuzzi shower)</td>\n",
       "      <td>Ca' Barb B&amp;B, a few steps away from Rialto bri...</td>\n",
       "      <td>San Polo is highly rated by guests for walking...</td>\n",
       "      <td>214390</td>\n",
       "      <td>Alessandro</td>\n",
       "      <td>27/08/2010</td>\n",
       "      <td>...</td>\n",
       "      <td>1</td>\n",
       "      <td>1</td>\n",
       "      <td>0</td>\n",
       "      <td>1</td>\n",
       "      <td>0</td>\n",
       "      <td>0</td>\n",
       "      <td>1</td>\n",
       "      <td>1</td>\n",
       "      <td>1</td>\n",
       "      <td>0</td>\n",
       "    </tr>\n",
       "    <tr>\n",
       "      <th>4</th>\n",
       "      <td>49656.0</td>\n",
       "      <td>2.025030e+13</td>\n",
       "      <td>02/03/2025</td>\n",
       "      <td>city scrape</td>\n",
       "      <td>Ca' Foscari Apartment</td>\n",
       "      <td>Itâ€™s a lovely quiet newly restored flat with...</td>\n",
       "      <td>The apartment is on the first floor (second fl...</td>\n",
       "      <td>226598</td>\n",
       "      <td>Andrea</td>\n",
       "      <td>07/09/2010</td>\n",
       "      <td>...</td>\n",
       "      <td>0</td>\n",
       "      <td>1</td>\n",
       "      <td>0</td>\n",
       "      <td>0</td>\n",
       "      <td>0</td>\n",
       "      <td>0</td>\n",
       "      <td>0</td>\n",
       "      <td>1</td>\n",
       "      <td>1</td>\n",
       "      <td>0</td>\n",
       "    </tr>\n",
       "  </tbody>\n",
       "</table>\n",
       "<p>5 rows × 87 columns</p>\n",
       "</div>"
      ],
      "text/plain": [
       "        id     scrape_id last_scraped       source  \\\n",
       "0   6624.0  2.025030e+13   02/03/2025  city scrape   \n",
       "1  27116.0  2.025030e+13   02/03/2025  city scrape   \n",
       "2  44527.0  2.025030e+13   02/03/2025  city scrape   \n",
       "3  47383.0  2.025030e+13   02/03/2025  city scrape   \n",
       "4  49656.0  2.025030e+13   02/03/2025  city scrape   \n",
       "\n",
       "                                            name  \\\n",
       "0           Venice garden charme and canal view!   \n",
       "1    Junior Suite with balcony overlooking canal   \n",
       "2  Luxury Historic Apartment on Calm Sunny Canal   \n",
       "3      Ca' Barba B&B: room n102 (jacuzzi shower)   \n",
       "4                          Ca' Foscari Apartment   \n",
       "\n",
       "                                         description  \\\n",
       "0  I'm thrilled to share my apartment with garden...   \n",
       "1  Few steps from Saint Mark square, on a picture...   \n",
       "2  An apartment that blends Gothic style with ini...   \n",
       "3  Ca' Barb B&B, a few steps away from Rialto bri...   \n",
       "4  Itâ€™s a lovely quiet newly restored flat with...   \n",
       "\n",
       "                               neighborhood_overview  host_id  \\\n",
       "0  We are in the middle of a residential area cal...    15016   \n",
       "1  The area is very beautiful and characteristic,...   116144   \n",
       "2  Cannaregio is a well-connected, truly Venetian...   120215   \n",
       "3  San Polo is highly rated by guests for walking...   214390   \n",
       "4  The apartment is on the first floor (second fl...   226598   \n",
       "\n",
       "          host_name  host_since  ... H_room_typed instant_bookabled D_price  \\\n",
       "0         Francesca  27/04/2009  ...            0                 0       1   \n",
       "1         GiÃ²&GiÃ²  30/04/2010  ...            0                 1       1   \n",
       "2  Marc & Elisabeth  07/05/2010  ...            0                 0       1   \n",
       "3        Alessandro  27/08/2010  ...            1                 1       0   \n",
       "4            Andrea  07/09/2010  ...            0                 1       0   \n",
       "\n",
       "  D_host_listings D_accuracy D_availability D_availability90  D_reviews  \\\n",
       "0               1          0              1                1          1   \n",
       "1               0          0              0                0          1   \n",
       "2               1          0              1                1          1   \n",
       "3               1          0              0                1          1   \n",
       "4               0          0              0                0          1   \n",
       "\n",
       "   D_rating D_accommodates  \n",
       "0         1              1  \n",
       "1         1              0  \n",
       "2         1              1  \n",
       "3         1              0  \n",
       "4         1              0  \n",
       "\n",
       "[5 rows x 87 columns]"
      ]
     },
     "execution_count": 5,
     "metadata": {},
     "output_type": "execute_result"
    }
   ],
   "source": [
    "df.head(5)"
   ]
  },
  {
   "cell_type": "markdown",
   "metadata": {},
   "source": [
    "**CASO 1: accommodates, bathrooms, room_type**"
   ]
  },
  {
   "cell_type": "code",
   "execution_count": 6,
   "metadata": {},
   "outputs": [
    {
     "data": {
      "text/plain": [
       "array([0, 0, 1, ..., 0, 0, 1], dtype=int64)"
      ]
     },
     "execution_count": 6,
     "metadata": {},
     "output_type": "execute_result"
    }
   ],
   "source": [
    "#Declaramos las variables dependientes e independiente para las regresion Logisitica \n",
    "Vars_Indep = df[['D_accommodates', 'bathroomsd', 'E_room_typed']]\n",
    "Var_Dep = df['D_price']\n",
    "X = Vars_Indep\n",
    "y = Var_Dep\n",
    "\n",
    "#Dividimos el conjunto de datos en la parte de entrenamiento y prueba:\n",
    "X_train, X_test, y_train, y_test = train_test_split(X, y, test_size=0.3, random_state= None)\n",
    "\n",
    "#Se escalan los datos\n",
    "escalar = StandardScaler()\n",
    "#Para realizar el escalamiento de las variables \"X\" tanto de entrenamiento como de prueba, utilizaremos \n",
    "X_train = escalar.fit_transform(X_train)\n",
    "X_test = escalar.transform(X_test)\n",
    "\n",
    "#Definimos el algoritmo a utilizar\n",
    "from sklearn.linear_model import LogisticRegression\n",
    "algoritmo = LogisticRegression()\n",
    "\n",
    "algoritmo.fit(X_train, y_train)\n",
    "\n",
    "y_pred = algoritmo.predict(X_test)\n",
    "y_pred"
   ]
  },
  {
   "cell_type": "code",
   "execution_count": 7,
   "metadata": {},
   "outputs": [
    {
     "name": "stdout",
     "output_type": "stream",
     "text": [
      "Matriz de Confusion:\n",
      "[[736 467]\n",
      " [344 830]]\n"
     ]
    }
   ],
   "source": [
    "#Verifico la matriz de Confusion\n",
    "from sklearn.metrics import confusion_matrix\n",
    "matriz = confusion_matrix(y_test, y_pred)\n",
    "print('Matriz de Confusion:')\n",
    "print(matriz)"
   ]
  },
  {
   "cell_type": "code",
   "execution_count": 8,
   "metadata": {},
   "outputs": [
    {
     "name": "stdout",
     "output_type": "stream",
     "text": [
      "Precision del modelo: \n",
      "0.6399383191981496\n"
     ]
    }
   ],
   "source": [
    "#Caulculo de la precisuin del modelo\n",
    "from sklearn.metrics import precision_score\n",
    "\n",
    "precision = precision_score(y_test, y_pred, average='binary')\n",
    "print(\"Precision del modelo: \")\n",
    "print(precision)"
   ]
  },
  {
   "cell_type": "code",
   "execution_count": 9,
   "metadata": {},
   "outputs": [
    {
     "name": "stdout",
     "output_type": "stream",
     "text": [
      "Exactitud del modelo: \n",
      "0.6588136306268405\n"
     ]
    }
   ],
   "source": [
    "from sklearn.metrics import accuracy_score\n",
    "\n",
    "exactitud = accuracy_score(y_test, y_pred)\n",
    "print(\"Exactitud del modelo: \")\n",
    "print(exactitud)\n"
   ]
  },
  {
   "cell_type": "code",
   "execution_count": 10,
   "metadata": {},
   "outputs": [
    {
     "name": "stdout",
     "output_type": "stream",
     "text": [
      "Sensibilidad del modelo:\n",
      "0.706984667802385\n"
     ]
    }
   ],
   "source": [
    "#Calculo la sensibilidad del modelo\n",
    "from sklearn.metrics import recall_score\n",
    "sensibilidad = recall_score(y_test, y_pred, average=\"binary\")\n",
    "print('Sensibilidad del modelo:')\n",
    "print(sensibilidad)\n"
   ]
  },
  {
   "cell_type": "markdown",
   "metadata": {},
   "source": [
    "**CASO 2:** \n",
    "**price, host_listings, accuracy**"
   ]
  },
  {
   "cell_type": "code",
   "execution_count": 11,
   "metadata": {},
   "outputs": [
    {
     "data": {
      "text/plain": [
       "array([1, 1, 1, ..., 1, 1, 0], dtype=int64)"
      ]
     },
     "execution_count": 11,
     "metadata": {},
     "output_type": "execute_result"
    }
   ],
   "source": [
    "#Declaramos las variables dependientes e independiente para las regresion Logisitica \n",
    "Vars_Indep = df[['D_price', 'D_host_listings', 'D_accuracy']]\n",
    "Var_Dep = df['D_availability']\n",
    "X = Vars_Indep\n",
    "y = Var_Dep\n",
    "\n",
    "#Dividimos el conjunto de datos en la parte de entrenamiento y prueba:\n",
    "X_train, X_test, y_train, y_test = train_test_split(X, y, test_size=0.3, random_state= None)\n",
    "\n",
    "#Se escalan los datos\n",
    "escalar = StandardScaler()\n",
    "#Para realizar el escalamiento de las variables \"X\" tanto de entrenamiento como de prueba, utilizaremos \n",
    "X_train = escalar.fit_transform(X_train)\n",
    "X_test = escalar.transform(X_test)\n",
    "\n",
    "#Definimos el algoritmo a utilizar\n",
    "algoritmo = LogisticRegression()\n",
    "\n",
    "algoritmo.fit(X_train, y_train)\n",
    "\n",
    "y_pred = algoritmo.predict(X_test)\n",
    "y_pred"
   ]
  },
  {
   "cell_type": "code",
   "execution_count": 12,
   "metadata": {},
   "outputs": [
    {
     "name": "stdout",
     "output_type": "stream",
     "text": [
      "Matriz de Confusion:\n",
      "[[490 642]\n",
      " [490 755]]\n"
     ]
    }
   ],
   "source": [
    "#Verifico la matriz de Confusion\n",
    "matriz = confusion_matrix(y_test, y_pred)\n",
    "print('Matriz de Confusion:')\n",
    "print(matriz)"
   ]
  },
  {
   "cell_type": "code",
   "execution_count": 13,
   "metadata": {},
   "outputs": [
    {
     "name": "stdout",
     "output_type": "stream",
     "text": [
      "Precision del modelo: \n",
      "0.5404438081603435\n"
     ]
    }
   ],
   "source": [
    "#Caulculo de la precisuin del modelo\n",
    "precision = precision_score(y_test, y_pred, average='binary')\n",
    "print(\"Precision del modelo: \")\n",
    "print(precision)"
   ]
  },
  {
   "cell_type": "code",
   "execution_count": 14,
   "metadata": {},
   "outputs": [
    {
     "name": "stdout",
     "output_type": "stream",
     "text": [
      "Exactitud del modelo: \n",
      "0.5237694572991165\n"
     ]
    }
   ],
   "source": [
    "exactitud = accuracy_score(y_test, y_pred)\n",
    "print(\"Exactitud del modelo: \")\n",
    "print(exactitud)\n"
   ]
  },
  {
   "cell_type": "code",
   "execution_count": 15,
   "metadata": {},
   "outputs": [
    {
     "name": "stdout",
     "output_type": "stream",
     "text": [
      "Sensibilidad del modelo:\n",
      "0.606425702811245\n"
     ]
    }
   ],
   "source": [
    "#Calculo la sensibilidad del modelo\n",
    "sensibilidad = recall_score(y_test, y_pred, average=\"binary\")\n",
    "print('Sensibilidad del modelo:')\n",
    "print(sensibilidad)\n"
   ]
  },
  {
   "cell_type": "markdown",
   "metadata": {},
   "source": [
    "**CASO 3:** \n",
    "**availability, number_of_reviews, review_scores_rating**"
   ]
  },
  {
   "cell_type": "code",
   "execution_count": 16,
   "metadata": {},
   "outputs": [
    {
     "data": {
      "text/plain": [
       "array([0, 0, 1, ..., 0, 1, 0], dtype=int64)"
      ]
     },
     "execution_count": 16,
     "metadata": {},
     "output_type": "execute_result"
    }
   ],
   "source": [
    "#Declaramos las variables dependientes e independiente para las regresion Logisitica \n",
    "Vars_Indep = df[['D_availability', 'D_reviews', 'D_rating']]\n",
    "Var_Dep = df['D_price']\n",
    "X = Vars_Indep\n",
    "y = Var_Dep\n",
    "\n",
    "#Dividimos el conjunto de datos en la parte de entrenamiento y prueba:\n",
    "X_train, X_test, y_train, y_test = train_test_split(X, y, test_size=0.3, random_state= None)\n",
    "\n",
    "#Se escalan los datos\n",
    "escalar = StandardScaler()\n",
    "#Para realizar el escalamiento de las variables \"X\" tanto de entrenamiento como de prueba, utilizaremos \n",
    "X_train = escalar.fit_transform(X_train)\n",
    "X_test = escalar.transform(X_test)\n",
    "\n",
    "#Definimos el algoritmo a utilizar\n",
    "algoritmo = LogisticRegression()\n",
    "\n",
    "algoritmo.fit(X_train, y_train)\n",
    "\n",
    "y_pred = algoritmo.predict(X_test)\n",
    "y_pred"
   ]
  },
  {
   "cell_type": "code",
   "execution_count": 17,
   "metadata": {},
   "outputs": [
    {
     "name": "stdout",
     "output_type": "stream",
     "text": [
      "Matriz de Confusion:\n",
      "[[653 493]\n",
      " [527 704]]\n"
     ]
    }
   ],
   "source": [
    "#Verifico la matriz de Confusion\n",
    "matriz = confusion_matrix(y_test, y_pred)\n",
    "print('Matriz de Confusion:')\n",
    "print(matriz)"
   ]
  },
  {
   "cell_type": "code",
   "execution_count": 18,
   "metadata": {},
   "outputs": [
    {
     "name": "stdout",
     "output_type": "stream",
     "text": [
      "Precision del modelo: \n",
      "0.5881370091896407\n"
     ]
    }
   ],
   "source": [
    "#Caulculo de la precisuin del modelo\n",
    "precision = precision_score(y_test, y_pred, average='binary')\n",
    "print(\"Precision del modelo: \")\n",
    "print(precision)"
   ]
  },
  {
   "cell_type": "code",
   "execution_count": 19,
   "metadata": {},
   "outputs": [
    {
     "name": "stdout",
     "output_type": "stream",
     "text": [
      "Exactitud del modelo: \n",
      "0.5708876735380732\n"
     ]
    }
   ],
   "source": [
    "exactitud = accuracy_score(y_test, y_pred)\n",
    "print(\"Exactitud del modelo: \")\n",
    "print(exactitud)\n"
   ]
  },
  {
   "cell_type": "code",
   "execution_count": 20,
   "metadata": {},
   "outputs": [
    {
     "name": "stdout",
     "output_type": "stream",
     "text": [
      "Sensibilidad del modelo:\n",
      "0.5718927701056052\n"
     ]
    }
   ],
   "source": [
    "#Calculo la sensibilidad del modelo\n",
    "sensibilidad = recall_score(y_test, y_pred, average=\"binary\")\n",
    "print('Sensibilidad del modelo:')\n",
    "print(sensibilidad)\n"
   ]
  },
  {
   "cell_type": "markdown",
   "metadata": {},
   "source": [
    "**CASO 4:** \n",
    "**bathrooms, number_of_reviews, price**"
   ]
  },
  {
   "cell_type": "code",
   "execution_count": 33,
   "metadata": {},
   "outputs": [
    {
     "data": {
      "text/plain": [
       "array([0, 0, 0, ..., 0, 0, 1], dtype=int64)"
      ]
     },
     "execution_count": 33,
     "metadata": {},
     "output_type": "execute_result"
    }
   ],
   "source": [
    "# Declaramos las variables dependientes e independientes para la regresión logística\n",
    "Vars_Indep = df[['bathroomsd', 'D_reviews', 'D_price']]\n",
    "Var_Dep = df['D_availability']\n",
    "X = Vars_Indep\n",
    "y = Var_Dep\n",
    "\n",
    "# Dividimos el conjunto de datos en entrenamiento y prueba\n",
    "X_train, X_test, y_train, y_test = train_test_split(X, y, test_size=0.3, random_state=None)\n",
    "\n",
    "# Se escalan los datos\n",
    "escalar = StandardScaler()\n",
    "X_train = escalar.fit_transform(X_train)\n",
    "X_test = escalar.transform(X_test)\n",
    "\n",
    "# Definimos el algoritmo a utilizar\n",
    "algoritmo = LogisticRegression()\n",
    "algoritmo.fit(X_train, y_train)\n",
    "\n",
    "# Hacemos las predicciones\n",
    "y_pred = algoritmo.predict(X_test)\n",
    "y_pred\n"
   ]
  },
  {
   "cell_type": "code",
   "execution_count": 34,
   "metadata": {},
   "outputs": [
    {
     "name": "stdout",
     "output_type": "stream",
     "text": [
      "Matriz de Confusion:\n",
      "[[453 702]\n",
      " [400 822]]\n"
     ]
    }
   ],
   "source": [
    "#Verifico la matriz de Confusion\n",
    "matriz = confusion_matrix(y_test, y_pred)\n",
    "print('Matriz de Confusion:')\n",
    "print(matriz)"
   ]
  },
  {
   "cell_type": "code",
   "execution_count": 35,
   "metadata": {},
   "outputs": [
    {
     "name": "stdout",
     "output_type": "stream",
     "text": [
      "Precision del modelo: \n",
      "0.5393700787401575\n"
     ]
    }
   ],
   "source": [
    "#Caulculo de la precisuin del modelo\n",
    "precision = precision_score(y_test, y_pred, average='binary')\n",
    "print(\"Precision del modelo: \")\n",
    "print(precision)"
   ]
  },
  {
   "cell_type": "code",
   "execution_count": 36,
   "metadata": {},
   "outputs": [
    {
     "name": "stdout",
     "output_type": "stream",
     "text": [
      "Exactitud del modelo: \n",
      "0.5363904080774085\n"
     ]
    }
   ],
   "source": [
    "exactitud = accuracy_score(y_test, y_pred)\n",
    "print(\"Exactitud del modelo: \")\n",
    "print(exactitud)\n"
   ]
  },
  {
   "cell_type": "code",
   "execution_count": 37,
   "metadata": {},
   "outputs": [
    {
     "name": "stdout",
     "output_type": "stream",
     "text": [
      "Sensibilidad del modelo:\n",
      "0.6726677577741408\n"
     ]
    }
   ],
   "source": [
    "#Calculo la sensibilidad del modelo\n",
    "sensibilidad = recall_score(y_test, y_pred, average=\"binary\")\n",
    "print('Sensibilidad del modelo:')\n",
    "print(sensibilidad)\n"
   ]
  },
  {
   "cell_type": "markdown",
   "metadata": {},
   "source": [
    "**CASO 5:** \n",
    "**accommodates, review_scores_rating, availability_30**"
   ]
  },
  {
   "cell_type": "code",
   "execution_count": 38,
   "metadata": {},
   "outputs": [
    {
     "data": {
      "text/plain": [
       "array([1, 0, 1, ..., 0, 1, 1], dtype=int64)"
      ]
     },
     "execution_count": 38,
     "metadata": {},
     "output_type": "execute_result"
    }
   ],
   "source": [
    "# Declaramos las variables dependientes e independientes para la regresión logística\n",
    "Vars_Indep = df[['D_accommodates', 'D_reviews', 'D_availability']]\n",
    "Var_Dep = df['D_price']\n",
    "X = Vars_Indep\n",
    "y = Var_Dep\n",
    "\n",
    "# Dividimos el conjunto de datos en entrenamiento y prueba\n",
    "X_train, X_test, y_train, y_test = train_test_split(X, y, test_size=0.3, random_state=None)\n",
    "\n",
    "# Se escalan los datos\n",
    "escalar = StandardScaler()\n",
    "X_train = escalar.fit_transform(X_train)\n",
    "X_test = escalar.transform(X_test)\n",
    "\n",
    "# Definimos el algoritmo a utilizar\n",
    "algoritmo = LogisticRegression()\n",
    "algoritmo.fit(X_train, y_train)\n",
    "\n",
    "# Hacemos las predicciones\n",
    "y_pred = algoritmo.predict(X_test)\n",
    "y_pred\n"
   ]
  },
  {
   "cell_type": "code",
   "execution_count": 39,
   "metadata": {},
   "outputs": [
    {
     "name": "stdout",
     "output_type": "stream",
     "text": [
      "Matriz de Confusion:\n",
      "[[714 447]\n",
      " [376 840]]\n"
     ]
    }
   ],
   "source": [
    "#Verifico la matriz de Confusion\n",
    "matriz = confusion_matrix(y_test, y_pred)\n",
    "print('Matriz de Confusion:')\n",
    "print(matriz)"
   ]
  },
  {
   "cell_type": "code",
   "execution_count": 40,
   "metadata": {},
   "outputs": [
    {
     "name": "stdout",
     "output_type": "stream",
     "text": [
      "Precision del modelo: \n",
      "0.6526806526806527\n"
     ]
    }
   ],
   "source": [
    "#Caulculo de la precisuin del modelo\n",
    "precision = precision_score(y_test, y_pred, average='binary')\n",
    "print(\"Precision del modelo: \")\n",
    "print(precision)"
   ]
  },
  {
   "cell_type": "code",
   "execution_count": 41,
   "metadata": {},
   "outputs": [
    {
     "name": "stdout",
     "output_type": "stream",
     "text": [
      "Exactitud del modelo: \n",
      "0.6537652503155238\n"
     ]
    }
   ],
   "source": [
    "exactitud = accuracy_score(y_test, y_pred)\n",
    "print(\"Exactitud del modelo: \")\n",
    "print(exactitud)\n"
   ]
  },
  {
   "cell_type": "code",
   "execution_count": 42,
   "metadata": {},
   "outputs": [
    {
     "name": "stdout",
     "output_type": "stream",
     "text": [
      "Sensibilidad del modelo:\n",
      "0.6907894736842105\n"
     ]
    }
   ],
   "source": [
    "#Calculo la sensibilidad del modelo\n",
    "sensibilidad = recall_score(y_test, y_pred, average=\"binary\")\n",
    "print('Sensibilidad del modelo:')\n",
    "print(sensibilidad)\n"
   ]
  },
  {
   "cell_type": "markdown",
   "metadata": {},
   "source": [
    "**CASO 6:** \n",
    "**instant_bookable, review_scores_rating, availability_90**"
   ]
  },
  {
   "cell_type": "code",
   "execution_count": 31,
   "metadata": {},
   "outputs": [
    {
     "data": {
      "text/plain": [
       "array([1, 0, 1, ..., 1, 1, 0], dtype=int64)"
      ]
     },
     "execution_count": 31,
     "metadata": {},
     "output_type": "execute_result"
    }
   ],
   "source": [
    "\n",
    "# Declaramos las variables dependientes e independientes para la regresión logística\n",
    "Vars_Indep = df[['instant_bookabled', 'D_reviews', 'D_availability90']]\n",
    "Var_Dep = df['D_price']\n",
    "X = Vars_Indep\n",
    "y = Var_Dep\n",
    "\n",
    "# Dividimos el conjunto de datos en entrenamiento y prueba\n",
    "X_train, X_test, y_train, y_test = train_test_split(X, y, test_size=0.3, random_state=None)\n",
    "\n",
    "# Se escalan los datos\n",
    "X_train = escalar.fit_transform(X_train)\n",
    "X_test = escalar.transform(X_test)\n",
    "\n",
    "# Definimos el algoritmo a utilizar\n",
    "algoritmo = LogisticRegression()\n",
    "algoritmo.fit(X_train, y_train)\n",
    "\n",
    "# Hacemos las predicciones\n",
    "y_pred = algoritmo.predict(X_test)\n",
    "y_pred\n"
   ]
  },
  {
   "cell_type": "code",
   "execution_count": 32,
   "metadata": {},
   "outputs": [
    {
     "name": "stdout",
     "output_type": "stream",
     "text": [
      "Matriz de Confusion:\n",
      "[[632 556]\n",
      " [549 640]]\n"
     ]
    }
   ],
   "source": [
    "#Verifico la matriz de Confusion\n",
    "matriz = confusion_matrix(y_test, y_pred)\n",
    "print('Matriz de Confusion:')\n",
    "print(matriz)"
   ]
  },
  {
   "cell_type": "code",
   "execution_count": 43,
   "metadata": {},
   "outputs": [
    {
     "name": "stdout",
     "output_type": "stream",
     "text": [
      "Precision del modelo: \n",
      "0.6526806526806527\n"
     ]
    }
   ],
   "source": [
    "#Caulculo de la precisuin del modelo\n",
    "precision = precision_score(y_test, y_pred, average='binary')\n",
    "print(\"Precision del modelo: \")\n",
    "print(precision)"
   ]
  },
  {
   "cell_type": "code",
   "execution_count": 44,
   "metadata": {},
   "outputs": [
    {
     "name": "stdout",
     "output_type": "stream",
     "text": [
      "Exactitud del modelo: \n",
      "0.6537652503155238\n"
     ]
    }
   ],
   "source": [
    "exactitud = accuracy_score(y_test, y_pred)\n",
    "print(\"Exactitud del modelo: \")\n",
    "print(exactitud)\n"
   ]
  },
  {
   "cell_type": "code",
   "execution_count": 45,
   "metadata": {},
   "outputs": [
    {
     "name": "stdout",
     "output_type": "stream",
     "text": [
      "Sensibilidad del modelo:\n",
      "0.6907894736842105\n"
     ]
    }
   ],
   "source": [
    "#Calculo la sensibilidad del modelo\n",
    "sensibilidad = recall_score(y_test, y_pred, average=\"binary\")\n",
    "print('Sensibilidad del modelo:')\n",
    "print(sensibilidad)\n"
   ]
  },
  {
   "cell_type": "markdown",
   "metadata": {},
   "source": [
    "**CASO 7:** \n",
    "**bathrooms, availability_30, host_listings**"
   ]
  },
  {
   "cell_type": "code",
   "execution_count": 46,
   "metadata": {},
   "outputs": [
    {
     "data": {
      "text/plain": [
       "array([1, 1, 1, ..., 0, 0, 0], dtype=int64)"
      ]
     },
     "execution_count": 46,
     "metadata": {},
     "output_type": "execute_result"
    }
   ],
   "source": [
    "\n",
    "# Declaramos las variables dependientes e independientes para la regresión logística\n",
    "Vars_Indep = df[['bathroomsd', 'D_availability', 'D_host_listings']]\n",
    "Var_Dep = df['D_reviews']\n",
    "X = Vars_Indep\n",
    "y = Var_Dep\n",
    "\n",
    "# Dividimos el conjunto de datos en entrenamiento y prueba\n",
    "X_train, X_test, y_train, y_test = train_test_split(X, y, test_size=0.3, random_state=None)\n",
    "\n",
    "# Se escalan los datos\n",
    "X_train = escalar.fit_transform(X_train)\n",
    "X_test = escalar.transform(X_test)\n",
    "\n",
    "# Definimos el algoritmo a utilizar\n",
    "algoritmo = LogisticRegression()\n",
    "algoritmo.fit(X_train, y_train)\n",
    "\n",
    "# Hacemos las predicciones\n",
    "y_pred = algoritmo.predict(X_test)\n",
    "y_pred\n"
   ]
  },
  {
   "cell_type": "code",
   "execution_count": 47,
   "metadata": {},
   "outputs": [
    {
     "name": "stdout",
     "output_type": "stream",
     "text": [
      "Matriz de Confusion:\n",
      "[[663 492]\n",
      " [505 717]]\n"
     ]
    }
   ],
   "source": [
    "#Verifico la matriz de Confusion\n",
    "matriz = confusion_matrix(y_test, y_pred)\n",
    "print('Matriz de Confusion:')\n",
    "print(matriz)"
   ]
  },
  {
   "cell_type": "code",
   "execution_count": 48,
   "metadata": {},
   "outputs": [
    {
     "name": "stdout",
     "output_type": "stream",
     "text": [
      "Precision del modelo: \n",
      "0.5930521091811415\n"
     ]
    }
   ],
   "source": [
    "#Caulculo de la precisuin del modelo\n",
    "precision = precision_score(y_test, y_pred, average='binary')\n",
    "print(\"Precision del modelo: \")\n",
    "print(precision)"
   ]
  },
  {
   "cell_type": "code",
   "execution_count": 49,
   "metadata": {},
   "outputs": [
    {
     "name": "stdout",
     "output_type": "stream",
     "text": [
      "Exactitud del modelo: \n",
      "0.5805637358014304\n"
     ]
    }
   ],
   "source": [
    "exactitud = accuracy_score(y_test, y_pred)\n",
    "print(\"Exactitud del modelo: \")\n",
    "print(exactitud)\n"
   ]
  },
  {
   "cell_type": "code",
   "execution_count": 50,
   "metadata": {},
   "outputs": [
    {
     "name": "stdout",
     "output_type": "stream",
     "text": [
      "Sensibilidad del modelo:\n",
      "0.5867430441898527\n"
     ]
    }
   ],
   "source": [
    "#Calculo la sensibilidad del modelo\n",
    "sensibilidad = recall_score(y_test, y_pred, average=\"binary\")\n",
    "print('Sensibilidad del modelo:')\n",
    "print(sensibilidad)\n"
   ]
  },
  {
   "cell_type": "markdown",
   "metadata": {},
   "source": [
    "**CASO 8:** \n",
    "**price, accommodates, review_scores_rating**"
   ]
  },
  {
   "cell_type": "code",
   "execution_count": 51,
   "metadata": {},
   "outputs": [
    {
     "data": {
      "text/plain": [
       "array([0, 1, 1, ..., 1, 0, 0], dtype=int64)"
      ]
     },
     "execution_count": 51,
     "metadata": {},
     "output_type": "execute_result"
    }
   ],
   "source": [
    "\n",
    "# Declaramos las variables dependientes e independientes para la regresión logística\n",
    "Vars_Indep = df[['D_price', 'D_accommodates', 'D_rating']]\n",
    "Var_Dep = df['D_reviews']\n",
    "X = Vars_Indep\n",
    "y = Var_Dep\n",
    "\n",
    "# Dividimos el conjunto de datos en entrenamiento y prueba\n",
    "X_train, X_test, y_train, y_test = train_test_split(X, y, test_size=0.3, random_state=None)\n",
    "\n",
    "# Se escalan los datos\n",
    "X_train = escalar.fit_transform(X_train)\n",
    "X_test = escalar.transform(X_test)\n",
    "\n",
    "# Definimos el algoritmo a utilizar\n",
    "algoritmo = LogisticRegression()\n",
    "algoritmo.fit(X_train, y_train)\n",
    "\n",
    "# Hacemos las predicciones\n",
    "y_pred = algoritmo.predict(X_test)\n",
    "y_pred\n"
   ]
  },
  {
   "cell_type": "code",
   "execution_count": 52,
   "metadata": {},
   "outputs": [
    {
     "name": "stdout",
     "output_type": "stream",
     "text": [
      "Matriz de Confusion:\n",
      "[[637 562]\n",
      " [549 629]]\n"
     ]
    }
   ],
   "source": [
    "#Verifico la matriz de Confusion\n",
    "matriz = confusion_matrix(y_test, y_pred)\n",
    "precision = precision_score(y_test, y_pred, average='binary')\n",
    "exactitud = accuracy_score(y_test, y_pred)\n",
    "\n",
    "print('Matriz de Confusion:')\n",
    "print(matriz)"
   ]
  },
  {
   "cell_type": "code",
   "execution_count": 53,
   "metadata": {},
   "outputs": [
    {
     "name": "stdout",
     "output_type": "stream",
     "text": [
      "Precision del modelo: \n",
      "0.5281276238455079\n"
     ]
    }
   ],
   "source": [
    "#Caulculo de la precisuin del modelo\n",
    "precision = precision_score(y_test, y_pred, average='binary')\n",
    "print(\"Precision del modelo: \")\n",
    "print(precision)"
   ]
  },
  {
   "cell_type": "code",
   "execution_count": 54,
   "metadata": {},
   "outputs": [
    {
     "name": "stdout",
     "output_type": "stream",
     "text": [
      "Exactitud del modelo: \n",
      "0.5326041228439209\n"
     ]
    }
   ],
   "source": [
    "exactitud = accuracy_score(y_test, y_pred)\n",
    "print(\"Exactitud del modelo: \")\n",
    "print(exactitud)\n"
   ]
  },
  {
   "cell_type": "code",
   "execution_count": 55,
   "metadata": {},
   "outputs": [
    {
     "name": "stdout",
     "output_type": "stream",
     "text": [
      "Sensibilidad del modelo:\n",
      "0.533955857385399\n"
     ]
    }
   ],
   "source": [
    "#Calculo la sensibilidad del modelo\n",
    "sensibilidad = recall_score(y_test, y_pred, average=\"binary\")\n",
    "print('Sensibilidad del modelo:')\n",
    "print(sensibilidad)\n"
   ]
  },
  {
   "cell_type": "markdown",
   "metadata": {},
   "source": [
    "**CASO 9:** \n",
    "**bathrooms, review_scores_accuracy, review_scores_rating**"
   ]
  },
  {
   "cell_type": "code",
   "execution_count": 56,
   "metadata": {},
   "outputs": [
    {
     "data": {
      "text/plain": [
       "array([1, 0, 0, ..., 0, 1, 0], dtype=int64)"
      ]
     },
     "execution_count": 56,
     "metadata": {},
     "output_type": "execute_result"
    }
   ],
   "source": [
    "\n",
    "# Declaramos las variables dependientes e independientes para la regresión logística\n",
    "Vars_Indep = df[['bathroomsd', 'D_accuracy', 'D_rating']]\n",
    "Var_Dep = df['D_price']\n",
    "X = Vars_Indep\n",
    "y = Var_Dep\n",
    "\n",
    "# Dividimos el conjunto de datos en entrenamiento y prueba\n",
    "X_train, X_test, y_train, y_test = train_test_split(X, y, test_size=0.3, random_state=None)\n",
    "\n",
    "# Se escalan los datos\n",
    "X_train = escalar.fit_transform(X_train)\n",
    "X_test = escalar.transform(X_test)\n",
    "\n",
    "# Definimos el algoritmo a utilizar\n",
    "algoritmo = LogisticRegression()\n",
    "algoritmo.fit(X_train, y_train)\n",
    "\n",
    "# Hacemos las predicciones\n",
    "y_pred = algoritmo.predict(X_test)\n",
    "y_pred\n"
   ]
  },
  {
   "cell_type": "code",
   "execution_count": 57,
   "metadata": {},
   "outputs": [
    {
     "name": "stdout",
     "output_type": "stream",
     "text": [
      "Matriz de Confusion:\n",
      "[[945 246]\n",
      " [614 572]]\n"
     ]
    }
   ],
   "source": [
    "#Verifico la matriz de Confusion\n",
    "matriz = confusion_matrix(y_test, y_pred)\n",
    "precision = precision_score(y_test, y_pred, average='binary')\n",
    "exactitud = accuracy_score(y_test, y_pred)\n",
    "\n",
    "print('Matriz de Confusion:')\n",
    "print(matriz)"
   ]
  },
  {
   "cell_type": "code",
   "execution_count": 58,
   "metadata": {},
   "outputs": [
    {
     "name": "stdout",
     "output_type": "stream",
     "text": [
      "Precision del modelo: \n",
      "0.6992665036674817\n"
     ]
    }
   ],
   "source": [
    "#Caulculo de la precisuin del modelo\n",
    "precision = precision_score(y_test, y_pred, average='binary')\n",
    "print(\"Precision del modelo: \")\n",
    "print(precision)"
   ]
  },
  {
   "cell_type": "code",
   "execution_count": 59,
   "metadata": {},
   "outputs": [
    {
     "name": "stdout",
     "output_type": "stream",
     "text": [
      "Exactitud del modelo: \n",
      "0.638199411022297\n"
     ]
    }
   ],
   "source": [
    "exactitud = accuracy_score(y_test, y_pred)\n",
    "print(\"Exactitud del modelo: \")\n",
    "print(exactitud)\n"
   ]
  },
  {
   "cell_type": "code",
   "execution_count": 60,
   "metadata": {},
   "outputs": [
    {
     "name": "stdout",
     "output_type": "stream",
     "text": [
      "Sensibilidad del modelo:\n",
      "0.4822934232715008\n"
     ]
    }
   ],
   "source": [
    "#Calculo la sensibilidad del modelo\n",
    "sensibilidad = recall_score(y_test, y_pred, average=\"binary\")\n",
    "print('Sensibilidad del modelo:')\n",
    "print(sensibilidad)"
   ]
  },
  {
   "cell_type": "markdown",
   "metadata": {},
   "source": [
    "**CASO 10:** \n",
    "**availabilit_90, host_total_listings_count, number_of_reviews**"
   ]
  },
  {
   "cell_type": "code",
   "execution_count": 61,
   "metadata": {},
   "outputs": [
    {
     "data": {
      "text/plain": [
       "array([1, 1, 1, ..., 1, 1, 0], dtype=int64)"
      ]
     },
     "execution_count": 61,
     "metadata": {},
     "output_type": "execute_result"
    }
   ],
   "source": [
    "# Declaramos las variables dependientes e independientes para la regresión logística\n",
    "Vars_Indep = df[['D_availability90', 'D_host_listings', 'D_reviews']]\n",
    "Var_Dep = df['D_price']\n",
    "X = Vars_Indep\n",
    "y = Var_Dep\n",
    "\n",
    "# Dividimos el conjunto de datos en entrenamiento y prueba\n",
    "X_train, X_test, y_train, y_test = train_test_split(X, y, test_size=0.3, random_state=None)\n",
    "\n",
    "# Se escalan los datos\n",
    "X_train = escalar.fit_transform(X_train)\n",
    "X_test = escalar.transform(X_test)\n",
    "\n",
    "# Definimos el algoritmo a utilizar\n",
    "algoritmo = LogisticRegression()\n",
    "algoritmo.fit(X_train, y_train)\n",
    "\n",
    "# Hacemos las predicciones\n",
    "y_pred = algoritmo.predict(X_test)\n",
    "y_pred\n"
   ]
  },
  {
   "cell_type": "code",
   "execution_count": 62,
   "metadata": {},
   "outputs": [
    {
     "name": "stdout",
     "output_type": "stream",
     "text": [
      "Matriz de Confusion:\n",
      "[[632 555]\n",
      " [554 636]]\n"
     ]
    }
   ],
   "source": [
    "#Verifico la matriz de Confusion\n",
    "matriz = confusion_matrix(y_test, y_pred)\n",
    "precision = precision_score(y_test, y_pred, average='binary')\n",
    "exactitud = accuracy_score(y_test, y_pred)\n",
    "\n",
    "print('Matriz de Confusion:')\n",
    "print(matriz)"
   ]
  },
  {
   "cell_type": "code",
   "execution_count": 63,
   "metadata": {},
   "outputs": [
    {
     "name": "stdout",
     "output_type": "stream",
     "text": [
      "Precision del modelo: \n",
      "0.5340050377833753\n"
     ]
    }
   ],
   "source": [
    "#Caulculo de la precisuin del modelo\n",
    "precision = precision_score(y_test, y_pred, average='binary')\n",
    "print(\"Precision del modelo: \")\n",
    "print(precision)"
   ]
  },
  {
   "cell_type": "code",
   "execution_count": 64,
   "metadata": {},
   "outputs": [
    {
     "name": "stdout",
     "output_type": "stream",
     "text": [
      "Exactitud del modelo: \n",
      "0.5334455195624737\n"
     ]
    }
   ],
   "source": [
    "exactitud = accuracy_score(y_test, y_pred)\n",
    "print(\"Exactitud del modelo: \")\n",
    "print(exactitud)\n"
   ]
  },
  {
   "cell_type": "code",
   "execution_count": 65,
   "metadata": {},
   "outputs": [
    {
     "name": "stdout",
     "output_type": "stream",
     "text": [
      "Sensibilidad del modelo:\n",
      "0.534453781512605\n"
     ]
    }
   ],
   "source": [
    "#Calculo la sensibilidad del modelo\n",
    "sensibilidad = recall_score(y_test, y_pred, average=\"binary\")\n",
    "print('Sensibilidad del modelo:')\n",
    "print(sensibilidad)"
   ]
  }
 ],
 "metadata": {
  "kernelspec": {
   "display_name": "Python 3",
   "language": "python",
   "name": "python3"
  },
  "language_info": {
   "codemirror_mode": {
    "name": "ipython",
    "version": 3
   },
   "file_extension": ".py",
   "mimetype": "text/x-python",
   "name": "python",
   "nbconvert_exporter": "python",
   "pygments_lexer": "ipython3",
   "version": "3.12.4"
  }
 },
 "nbformat": 4,
 "nbformat_minor": 2
}
